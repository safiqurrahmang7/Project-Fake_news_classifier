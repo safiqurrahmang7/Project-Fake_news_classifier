{
  "cells": [
    {
      "cell_type": "code",
      "execution_count": 37,
      "metadata": {
        "id": "AifRs-nMZmsd"
      },
      "outputs": [],
      "source": [
        "#Loading the dataset\n",
        "import pandas as pd\n",
        "df = pd.read_csv('/content/fake_news_cleaned.csv')"
      ]
    },
    {
      "cell_type": "code",
      "execution_count": 38,
      "metadata": {
        "colab": {
          "base_uri": "https://localhost:8080/",
          "height": 293
        },
        "id": "E3C_Ro8WZmse",
        "outputId": "24cfa834-3d42-4b6b-fe35-976a00e10c79"
      },
      "outputs": [
        {
          "output_type": "execute_result",
          "data": {
            "text/plain": [
              "                                                text  label  \\\n",
              "0  No comment is expected from Barack Obama Membe...      1   \n",
              "1     Did they post their votes for Hillary already?      1   \n",
              "2   Now, most of the demonstrators gathered last ...      1   \n",
              "3  A dozen politically active pastors came here f...      0   \n",
              "4  The RS-28 Sarmat missile, dubbed Satan 2, will...      1   \n",
              "\n",
              "                                      processed_text  \\\n",
              "0  no comment is expected from barack obama membe...   \n",
              "1     did they post their votes for hillary already?   \n",
              "2   now, most of the demonstrators gathered last ...   \n",
              "3  a dozen politically active pastors came here f...   \n",
              "4  the rs-28 sarmat missile, dubbed satan 2, will...   \n",
              "\n",
              "                                        cleaned_text  \n",
              "0  no comment is expected from barack obama membe...  \n",
              "1      did they post their votes for hillary already  \n",
              "2  now most of the demonstrators gathered last ni...  \n",
              "3  a dozen politically active pastors came here f...  \n",
              "4  the sarmat missile dubbed satan will replace t...  "
            ],
            "text/html": [
              "\n",
              "  <div id=\"df-6a41a74c-b9e4-4ae9-bc93-a7bccacba017\" class=\"colab-df-container\">\n",
              "    <div>\n",
              "<style scoped>\n",
              "    .dataframe tbody tr th:only-of-type {\n",
              "        vertical-align: middle;\n",
              "    }\n",
              "\n",
              "    .dataframe tbody tr th {\n",
              "        vertical-align: top;\n",
              "    }\n",
              "\n",
              "    .dataframe thead th {\n",
              "        text-align: right;\n",
              "    }\n",
              "</style>\n",
              "<table border=\"1\" class=\"dataframe\">\n",
              "  <thead>\n",
              "    <tr style=\"text-align: right;\">\n",
              "      <th></th>\n",
              "      <th>text</th>\n",
              "      <th>label</th>\n",
              "      <th>processed_text</th>\n",
              "      <th>cleaned_text</th>\n",
              "    </tr>\n",
              "  </thead>\n",
              "  <tbody>\n",
              "    <tr>\n",
              "      <th>0</th>\n",
              "      <td>No comment is expected from Barack Obama Membe...</td>\n",
              "      <td>1</td>\n",
              "      <td>no comment is expected from barack obama membe...</td>\n",
              "      <td>no comment is expected from barack obama membe...</td>\n",
              "    </tr>\n",
              "    <tr>\n",
              "      <th>1</th>\n",
              "      <td>Did they post their votes for Hillary already?</td>\n",
              "      <td>1</td>\n",
              "      <td>did they post their votes for hillary already?</td>\n",
              "      <td>did they post their votes for hillary already</td>\n",
              "    </tr>\n",
              "    <tr>\n",
              "      <th>2</th>\n",
              "      <td>Now, most of the demonstrators gathered last ...</td>\n",
              "      <td>1</td>\n",
              "      <td>now, most of the demonstrators gathered last ...</td>\n",
              "      <td>now most of the demonstrators gathered last ni...</td>\n",
              "    </tr>\n",
              "    <tr>\n",
              "      <th>3</th>\n",
              "      <td>A dozen politically active pastors came here f...</td>\n",
              "      <td>0</td>\n",
              "      <td>a dozen politically active pastors came here f...</td>\n",
              "      <td>a dozen politically active pastors came here f...</td>\n",
              "    </tr>\n",
              "    <tr>\n",
              "      <th>4</th>\n",
              "      <td>The RS-28 Sarmat missile, dubbed Satan 2, will...</td>\n",
              "      <td>1</td>\n",
              "      <td>the rs-28 sarmat missile, dubbed satan 2, will...</td>\n",
              "      <td>the sarmat missile dubbed satan will replace t...</td>\n",
              "    </tr>\n",
              "  </tbody>\n",
              "</table>\n",
              "</div>\n",
              "    <div class=\"colab-df-buttons\">\n",
              "\n",
              "  <div class=\"colab-df-container\">\n",
              "    <button class=\"colab-df-convert\" onclick=\"convertToInteractive('df-6a41a74c-b9e4-4ae9-bc93-a7bccacba017')\"\n",
              "            title=\"Convert this dataframe to an interactive table.\"\n",
              "            style=\"display:none;\">\n",
              "\n",
              "  <svg xmlns=\"http://www.w3.org/2000/svg\" height=\"24px\" viewBox=\"0 -960 960 960\">\n",
              "    <path d=\"M120-120v-720h720v720H120Zm60-500h600v-160H180v160Zm220 220h160v-160H400v160Zm0 220h160v-160H400v160ZM180-400h160v-160H180v160Zm440 0h160v-160H620v160ZM180-180h160v-160H180v160Zm440 0h160v-160H620v160Z\"/>\n",
              "  </svg>\n",
              "    </button>\n",
              "\n",
              "  <style>\n",
              "    .colab-df-container {\n",
              "      display:flex;\n",
              "      gap: 12px;\n",
              "    }\n",
              "\n",
              "    .colab-df-convert {\n",
              "      background-color: #E8F0FE;\n",
              "      border: none;\n",
              "      border-radius: 50%;\n",
              "      cursor: pointer;\n",
              "      display: none;\n",
              "      fill: #1967D2;\n",
              "      height: 32px;\n",
              "      padding: 0 0 0 0;\n",
              "      width: 32px;\n",
              "    }\n",
              "\n",
              "    .colab-df-convert:hover {\n",
              "      background-color: #E2EBFA;\n",
              "      box-shadow: 0px 1px 2px rgba(60, 64, 67, 0.3), 0px 1px 3px 1px rgba(60, 64, 67, 0.15);\n",
              "      fill: #174EA6;\n",
              "    }\n",
              "\n",
              "    .colab-df-buttons div {\n",
              "      margin-bottom: 4px;\n",
              "    }\n",
              "\n",
              "    [theme=dark] .colab-df-convert {\n",
              "      background-color: #3B4455;\n",
              "      fill: #D2E3FC;\n",
              "    }\n",
              "\n",
              "    [theme=dark] .colab-df-convert:hover {\n",
              "      background-color: #434B5C;\n",
              "      box-shadow: 0px 1px 3px 1px rgba(0, 0, 0, 0.15);\n",
              "      filter: drop-shadow(0px 1px 2px rgba(0, 0, 0, 0.3));\n",
              "      fill: #FFFFFF;\n",
              "    }\n",
              "  </style>\n",
              "\n",
              "    <script>\n",
              "      const buttonEl =\n",
              "        document.querySelector('#df-6a41a74c-b9e4-4ae9-bc93-a7bccacba017 button.colab-df-convert');\n",
              "      buttonEl.style.display =\n",
              "        google.colab.kernel.accessAllowed ? 'block' : 'none';\n",
              "\n",
              "      async function convertToInteractive(key) {\n",
              "        const element = document.querySelector('#df-6a41a74c-b9e4-4ae9-bc93-a7bccacba017');\n",
              "        const dataTable =\n",
              "          await google.colab.kernel.invokeFunction('convertToInteractive',\n",
              "                                                    [key], {});\n",
              "        if (!dataTable) return;\n",
              "\n",
              "        const docLinkHtml = 'Like what you see? Visit the ' +\n",
              "          '<a target=\"_blank\" href=https://colab.research.google.com/notebooks/data_table.ipynb>data table notebook</a>'\n",
              "          + ' to learn more about interactive tables.';\n",
              "        element.innerHTML = '';\n",
              "        dataTable['output_type'] = 'display_data';\n",
              "        await google.colab.output.renderOutput(dataTable, element);\n",
              "        const docLink = document.createElement('div');\n",
              "        docLink.innerHTML = docLinkHtml;\n",
              "        element.appendChild(docLink);\n",
              "      }\n",
              "    </script>\n",
              "  </div>\n",
              "\n",
              "\n",
              "<div id=\"df-2dcccf0b-a0ea-4955-9e0b-c22ac714fa23\">\n",
              "  <button class=\"colab-df-quickchart\" onclick=\"quickchart('df-2dcccf0b-a0ea-4955-9e0b-c22ac714fa23')\"\n",
              "            title=\"Suggest charts\"\n",
              "            style=\"display:none;\">\n",
              "\n",
              "<svg xmlns=\"http://www.w3.org/2000/svg\" height=\"24px\"viewBox=\"0 0 24 24\"\n",
              "     width=\"24px\">\n",
              "    <g>\n",
              "        <path d=\"M19 3H5c-1.1 0-2 .9-2 2v14c0 1.1.9 2 2 2h14c1.1 0 2-.9 2-2V5c0-1.1-.9-2-2-2zM9 17H7v-7h2v7zm4 0h-2V7h2v10zm4 0h-2v-4h2v4z\"/>\n",
              "    </g>\n",
              "</svg>\n",
              "  </button>\n",
              "\n",
              "<style>\n",
              "  .colab-df-quickchart {\n",
              "      --bg-color: #E8F0FE;\n",
              "      --fill-color: #1967D2;\n",
              "      --hover-bg-color: #E2EBFA;\n",
              "      --hover-fill-color: #174EA6;\n",
              "      --disabled-fill-color: #AAA;\n",
              "      --disabled-bg-color: #DDD;\n",
              "  }\n",
              "\n",
              "  [theme=dark] .colab-df-quickchart {\n",
              "      --bg-color: #3B4455;\n",
              "      --fill-color: #D2E3FC;\n",
              "      --hover-bg-color: #434B5C;\n",
              "      --hover-fill-color: #FFFFFF;\n",
              "      --disabled-bg-color: #3B4455;\n",
              "      --disabled-fill-color: #666;\n",
              "  }\n",
              "\n",
              "  .colab-df-quickchart {\n",
              "    background-color: var(--bg-color);\n",
              "    border: none;\n",
              "    border-radius: 50%;\n",
              "    cursor: pointer;\n",
              "    display: none;\n",
              "    fill: var(--fill-color);\n",
              "    height: 32px;\n",
              "    padding: 0;\n",
              "    width: 32px;\n",
              "  }\n",
              "\n",
              "  .colab-df-quickchart:hover {\n",
              "    background-color: var(--hover-bg-color);\n",
              "    box-shadow: 0 1px 2px rgba(60, 64, 67, 0.3), 0 1px 3px 1px rgba(60, 64, 67, 0.15);\n",
              "    fill: var(--button-hover-fill-color);\n",
              "  }\n",
              "\n",
              "  .colab-df-quickchart-complete:disabled,\n",
              "  .colab-df-quickchart-complete:disabled:hover {\n",
              "    background-color: var(--disabled-bg-color);\n",
              "    fill: var(--disabled-fill-color);\n",
              "    box-shadow: none;\n",
              "  }\n",
              "\n",
              "  .colab-df-spinner {\n",
              "    border: 2px solid var(--fill-color);\n",
              "    border-color: transparent;\n",
              "    border-bottom-color: var(--fill-color);\n",
              "    animation:\n",
              "      spin 1s steps(1) infinite;\n",
              "  }\n",
              "\n",
              "  @keyframes spin {\n",
              "    0% {\n",
              "      border-color: transparent;\n",
              "      border-bottom-color: var(--fill-color);\n",
              "      border-left-color: var(--fill-color);\n",
              "    }\n",
              "    20% {\n",
              "      border-color: transparent;\n",
              "      border-left-color: var(--fill-color);\n",
              "      border-top-color: var(--fill-color);\n",
              "    }\n",
              "    30% {\n",
              "      border-color: transparent;\n",
              "      border-left-color: var(--fill-color);\n",
              "      border-top-color: var(--fill-color);\n",
              "      border-right-color: var(--fill-color);\n",
              "    }\n",
              "    40% {\n",
              "      border-color: transparent;\n",
              "      border-right-color: var(--fill-color);\n",
              "      border-top-color: var(--fill-color);\n",
              "    }\n",
              "    60% {\n",
              "      border-color: transparent;\n",
              "      border-right-color: var(--fill-color);\n",
              "    }\n",
              "    80% {\n",
              "      border-color: transparent;\n",
              "      border-right-color: var(--fill-color);\n",
              "      border-bottom-color: var(--fill-color);\n",
              "    }\n",
              "    90% {\n",
              "      border-color: transparent;\n",
              "      border-bottom-color: var(--fill-color);\n",
              "    }\n",
              "  }\n",
              "</style>\n",
              "\n",
              "  <script>\n",
              "    async function quickchart(key) {\n",
              "      const quickchartButtonEl =\n",
              "        document.querySelector('#' + key + ' button');\n",
              "      quickchartButtonEl.disabled = true;  // To prevent multiple clicks.\n",
              "      quickchartButtonEl.classList.add('colab-df-spinner');\n",
              "      try {\n",
              "        const charts = await google.colab.kernel.invokeFunction(\n",
              "            'suggestCharts', [key], {});\n",
              "      } catch (error) {\n",
              "        console.error('Error during call to suggestCharts:', error);\n",
              "      }\n",
              "      quickchartButtonEl.classList.remove('colab-df-spinner');\n",
              "      quickchartButtonEl.classList.add('colab-df-quickchart-complete');\n",
              "    }\n",
              "    (() => {\n",
              "      let quickchartButtonEl =\n",
              "        document.querySelector('#df-2dcccf0b-a0ea-4955-9e0b-c22ac714fa23 button');\n",
              "      quickchartButtonEl.style.display =\n",
              "        google.colab.kernel.accessAllowed ? 'block' : 'none';\n",
              "    })();\n",
              "  </script>\n",
              "</div>\n",
              "\n",
              "    </div>\n",
              "  </div>\n"
            ],
            "application/vnd.google.colaboratory.intrinsic+json": {
              "type": "dataframe",
              "variable_name": "df",
              "summary": "{\n  \"name\": \"df\",\n  \"rows\": 62718,\n  \"fields\": [\n    {\n      \"column\": \"text\",\n      \"properties\": {\n        \"dtype\": \"string\",\n        \"num_unique_values\": 62718,\n        \"samples\": [\n          \"WASHINGTON (Reuters) - Michael Cohen, one of President Donald Trump\\u2019s closest business advisers, said on Sunday he would testify on Tuesday to the U.S. Senate Intelligence Committee, as the panel investigates alleged Russian interference in the 2016 U.S. election. The timing of Cohen\\u2019s testimony was first reported by NBC. Cohen confirmed that he would testify to the committee on Tuesday and said he did not know whether it would be in a closed session or public. Aides to the committee\\u2019s leaders did not immediately respond to requests for comment. Cohen said previously he had received a subpoena from at least one of the congressional committees investigating what U.S. intelligence has determined were Russia\\u2019s efforts to influence the election on Trump\\u2019s behalf, and whether Trump associates colluded with Russia. Russia denies such activity. The White House denies any collusion, but concerns about the issue and Trump\\u2019s ties to Russia have shadowed the first months of the Republican\\u2019s presidency. Cohen, a personal attorney to Trump, would be one of a series of close associates of the president to testify in Congress. Members of both the Senate and House of Representatives committees conducting investigations have said they expect to call more. Trump\\u2019s oldest son, Donald Trump Jr., testified to the Senate Judiciary Committee earlier this month. \",\n          \"HARARE (Reuters) - Zimbabwe s main opposition leader said on Monday President Robert Mugabe s refusal to resign had dampened people s spirits and called for an inclusive political process in the aftermath of a military intervention last week. Morgan Tsvangirai said there should be an all-stakeholders meeting to chart the country s future and that the next elections due next year should be supervised by the international community. \",\n          \"There is no word yet about whether or not the Hispanics in question were referred to by the plaintiff as  White Hispanics, (the George Zimmerman variety) Legendary restaurant Roscoe s House of Chicken  n Waffles has to cough up $1.6 million in an unlawful termination suit to an African American man who claimed he was discriminated against because he was black.The claim proves to be somewhat ironic given that the owner of the eatery, where President Barack Obama once dined when visiting Compton, is African American.CBS Los Angeles reported that Daniel Beasley sued Roscoe s for firing him after he complained to human resources that the managers harassed him for being black and gave preferential treatment, such as better work hours, to the Hispanic employees. It s owned by an African American owner, but he gives full authority to the Hispanics to run it,  Beasley told reporters.  It just caught me by surprise because here I am getting fired when I m trying to fix the problem. Beasley was frustrated that his complaints to management never got addressed, so he sued.  It s owned by an African American owner, but he gives full authority to the Hispanics to run it,  he told reporters.  It just caught me by surprise because here I am getting fired when I m trying to fix the problem. Beasley explained to CBS that he became homeless after he lost his job, so the hefty settlement becomes a huge victory for the grandfather from Compton.His lawyer Scott Cummings hopes that this win sends a message to other businesses out there.  Racism, racial harassment can occur really anywhere even in a black-owned business,  he asserted. Beasley added,  You can t treat people like that and get away with it constantly.  Via: Breitbart News\"\n        ],\n        \"semantic_type\": \"\",\n        \"description\": \"\"\n      }\n    },\n    {\n      \"column\": \"label\",\n      \"properties\": {\n        \"dtype\": \"number\",\n        \"std\": 0,\n        \"min\": 0,\n        \"max\": 1,\n        \"num_unique_values\": 2,\n        \"samples\": [\n          0,\n          1\n        ],\n        \"semantic_type\": \"\",\n        \"description\": \"\"\n      }\n    },\n    {\n      \"column\": \"processed_text\",\n      \"properties\": {\n        \"dtype\": \"string\",\n        \"num_unique_values\": 62718,\n        \"samples\": [\n          \"washington (reuters) - michael cohen, one of president donald trump\\u2019s closest business advisers, said on sunday he would testify on tuesday to the u.s. senate intelligence committee, as the panel investigates alleged russian interference in the 2016 u.s. election. the timing of cohen\\u2019s testimony was first reported by nbc. cohen confirmed that he would testify to the committee on tuesday and said he did not know whether it would be in a closed session or public. aides to the committee\\u2019s leaders did not immediately respond to requests for comment. cohen said previously he had received a subpoena from at least one of the congressional committees investigating what u.s. intelligence has determined were russia\\u2019s efforts to influence the election on trump\\u2019s behalf, and whether trump associates colluded with russia. russia denies such activity. the white house denies any collusion, but concerns about the issue and trump\\u2019s ties to russia have shadowed the first months of the republican\\u2019s presidency. cohen, a personal attorney to trump, would be one of a series of close associates of the president to testify in congress. members of both the senate and house of representatives committees conducting investigations have said they expect to call more. trump\\u2019s oldest son, donald trump jr., testified to the senate judiciary committee earlier this month. \",\n          \"harare (reuters) - zimbabwe s main opposition leader said on monday president robert mugabe s refusal to resign had dampened people s spirits and called for an inclusive political process in the aftermath of a military intervention last week. morgan tsvangirai said there should be an all-stakeholders meeting to chart the country s future and that the next elections due next year should be supervised by the international community. \"\n        ],\n        \"semantic_type\": \"\",\n        \"description\": \"\"\n      }\n    },\n    {\n      \"column\": \"cleaned_text\",\n      \"properties\": {\n        \"dtype\": \"string\",\n        \"num_unique_values\": 62569,\n        \"samples\": [\n          \"with the race for president getting hotter by the day and now that both parties have their presumptive nominees pretty locked up the gloves have clearly come off on either trump may have thought it was pretty easy to steamroll over his fellow republicans during the primary but now he s up against hillary clinton and she s no newcomer to having everything plus the kitchen sink filled with day old dishes thrown at s becoming for evident that trump is starting to flounder and that is pissing him off greatly his remarks on the federal judge of mexican descent really began turning off his own party as if they weren t listening to his racism before and now after his politicizing of the shooting massacre of a gay nightclub in orlando florida well his pathetic desperation is is actually trying albeit failing to appear as though he s better for women and the lgbt community than hillary when trump asked you tell me who is better for the gay community and who is better for women than donald trump trump you tell me who is better for the gay community and who is better for women than donald trump phil mattingly june simply responded with one word hi hi hillary clinton june s really all she needed to say because it s true and for goodness sake trump don t refer to yourself in the third only is hillary better for women and the lgbt community she s one million times better than donald trump on his best day even if he were to be the grand marshall in a pride parade you know you just pictured can t allow trump into the oval office not just for women and the gay community but for the whole nation and the entire photo by jeff swensen getty images\",\n          \"donald trump has regained the lead in iowa but things can still change on the democratic side young voters could tip the caucus toward bernie sanders but only if they turn out and many people who say they independents are just embarrassed partisans this is huffpollster for monday january trump pulling ahead again in iowa the last four gop polls from iowa show businessman donald trump with substantial leads of percentage points over texas sen ted cruz the huffpost pollster average has shifted to showing a more than four point lead for trump again after the two were essentially tied just a few days ago cnn emerson college cbs yougov fox news expect more upheaval in iowa gop polls over the next week philip bump earlier this month fox news released a poll showing ted cruz leading donald trump by four points the two had a sizable lead over everyone else in the state and the poll was confirming what others were showing cruz had an advantage on sunday fox released another iowa poll with substantially different results now trump is up by points a point swing in the two weeks between surveys this poll too mirrors the recent trend trump has regained the advantage it still a surprising development trump gained a lot across the board while most of his competitors have slipped so what going on this is the same polling firm and the same story of this new poll is that iowa has changed and over the next eight days it will change more washpost huge age gap among democrats in iowa a new cbs yougov poll shows vermont sen bernie sanders up by percentage point over hillary clinton mirroring the very tight race the huffpost pollster average shows but unlike many other polls yougov released vote preference by age revealing an enormous gap between younger and older voters there more evidence for a wide age gap most primary polls have small sample sizes making it difficult to break the results down by age group and find additional support for yougov numbers but the latest nbc wsj marist poll reported vote preferences among those under and over years old in the younger cohort percent support sanders while in the older group percent support clinton nbc wsj marist why the age gap matters in iowa in general people below the age of thirty are less likely to turn out to vote in elections they have especially low voter turnout in the iowa caucus with the exception of in the last five presidential elections only percent of eligible caucus goers under the age of voted in the iowa caucus making up between percent of the overall caucus goers but sometimes younger voters do show up to vote as was evident in when percent of eligible caucus goers under turned out to vote circle des moines register endorsement of clinton and rubio unlikely to change the race much harry enten let look at how past candidates were doing in the polls before getting the iowa paper endorsement and how they did once all the votes were of the nine candidates since did in fact do better than we expected them to do before getting the paper paper endorsement is credited for greatly improving the fortunes of iowa runner up john edwards but most of these candidates have gotten anything like the edwards bounce the average post endorsement bump has been a statistically insignificant percentage points a race for second in the new hampshire gop primary trump remains firmly at the top of the new hampshire gop polls but florida sen marco rubio cruz and ohio gov john kasich are battling for second rubio and cruz are basically tied in the huffpost pollster average with a little more than percent support each kasich is far behind new hampshire democrats hold steady bernie sanders still has a solid lead in the new hampshire polls the new cbs yougov poll shows him with a massive point lead while suffolk shows a more moderate point lead huffpost more americans independent than ever but with a caveat samara klar and yanna krupnikov distinguishes independents from partisans is not their political positions in fact most independents are independent at all they hold clear partisan preferences but they utterly refuse to identify with their preferred find that many americans are largely ashamed of the dysfunction in washington rather than associate with candidates and politicians who are portrayed by media as stubborn and aggressive a plurality of americans would rather present an image of calm cool independence not only are americans likely to present themselves as independent but they also prefer that others do the same vox that limits a third party or independent candidate chances more from klar and krupnikov in order for political independents to rise up and elect a third party candidate two things would have to occur first people who say they are independent would have to truly believe that neither of the two parties can effectively represent them second the group of people who report that they are independent would have to have sufficiently coherent interests so as to coalesce around the same candidate both of these criteria suggest it is unlikely that people who call themselves independents will move america toward a third party vox obama finishes up final term with mixed public feelings on his legacy pew report overall views of obama legacy like his job approval ratings fall roughly between those of george bush and bill clinton about as many say in the long run obama will be a successful president as say he will be unsuccessful while think it is too early to tell in general democrats view obama legacy in similar terms as they saw clinton in nearly two thirds say obama will be a successful republicans are much more critical of obama legacy today than they were of clinton then and in their assessments of whether obama accomplishments will surpass his failures republicans express even more negative views today than democrats did about bush in pew horse race polling has a limited life span kirby goidel and keith gaddie surveys of public opinion typically take place over two or three days then the results can start to age if the immediacy of information is unimportant the aging of a poll is not of great concern this is especially the case if the information sought is unlikely to change due to outside events during political campaigns however the information environment is dynamic so poll results tend to age quickly depending on the information of interest to the reader an aging poll might still be useful but if you are following the horse race who is leading an election in a hypothetical matchup and want to know the support for candidates or issues in a dynamic environment a poll grows less valuable as it ages in some elections where voters have limited information about the issues and do know the candidates very well horserace polling may be useless within a day or two of being completed huffpost huffpollster via email you can receive this daily update every weekday morning via email just click here enter your email address and click sign up that all there is to it and you can unsubscribe anytime monday outliers links to the best of news at the intersection of polling politics and political data trump regains a double digit lead in iowa and remains strong in new hampshire fox news trump leads in four out of five key primary states yougov sanders continues to duke it out with hillary clinton in iowa widens his lead in new hampshire and gains in south carolina yougov are less satisfied with the field of presidential candidates than they were in and gallup seitz wald explains how geography might rule in favor of hillary clinton in iowa msnbc sure how the iowa caucuses work here a primer pbs bowman of the american enterprise institute argues abortion is going to be a deciding issue in the elections forbes monkey cage is holding a contest to forecast the election washpost palin endorsement could help trump gain support among tea party supporters monkey cage bruni says the media is addicted to polls at a time when polls are least reliable nyt\"\n        ],\n        \"semantic_type\": \"\",\n        \"description\": \"\"\n      }\n    }\n  ]\n}"
            }
          },
          "metadata": {},
          "execution_count": 38
        }
      ],
      "source": [
        "#Few rows of the dataset to understand the data\n",
        "df.head()"
      ]
    },
    {
      "cell_type": "code",
      "execution_count": 39,
      "metadata": {
        "id": "gNlqIM85Zmse"
      },
      "outputs": [],
      "source": [
        "#importing the feature engineering libraries\n",
        "import tensorflow as tf\n",
        "from tensorflow.keras.preprocessing.text import Tokenizer\n",
        "from tensorflow.keras.preprocessing.sequence import pad_sequences"
      ]
    },
    {
      "cell_type": "code",
      "execution_count": 40,
      "metadata": {
        "id": "uWI7Nq5JZmsf"
      },
      "outputs": [],
      "source": [
        "#formatting the text column to string\n",
        "df['cleaned_text'] = df['cleaned_text'].astype(str)"
      ]
    },
    {
      "cell_type": "code",
      "execution_count": 41,
      "metadata": {
        "id": "GXw99H1KZmsf"
      },
      "outputs": [],
      "source": [
        "#tokenizing the text column\n",
        "tokenizer = Tokenizer(num_words=10000, oov_token=\"<OOV>\")\n",
        "tokenizer.fit_on_texts(df['cleaned_text'])"
      ]
    },
    {
      "cell_type": "code",
      "execution_count": 42,
      "metadata": {
        "colab": {
          "base_uri": "https://localhost:8080/"
        },
        "id": "fIohJhVvZmsg",
        "outputId": "34cc28c1-5222-499e-feab-0b37e2479187"
      },
      "outputs": [
        {
          "output_type": "stream",
          "name": "stdout",
          "text": [
            "(62718, 200)\n"
          ]
        }
      ],
      "source": [
        "#sequencing and padding the text column\n",
        "sequences = tokenizer.texts_to_sequences(df['cleaned_text'])\n",
        "padded_text = pad_sequences(sequences,maxlen = 200, padding='post', truncating='post')\n",
        "\n",
        "print(padded_text.shape)"
      ]
    },
    {
      "cell_type": "code",
      "execution_count": 43,
      "metadata": {
        "id": "ggFdBUSrZmsg"
      },
      "outputs": [],
      "source": [
        "#splitting the data into train and test\n",
        "from sklearn.model_selection import train_test_split\n",
        "\n",
        "labels = df['label'].values\n",
        "\n",
        "# Spliting the data\n",
        "X_train, X_test, y_train, y_test = train_test_split(padded_text, labels, test_size=0.2, random_state=42)\n"
      ]
    },
    {
      "cell_type": "code",
      "execution_count": 44,
      "metadata": {
        "colab": {
          "base_uri": "https://localhost:8080/"
        },
        "id": "K-PLB9ntZmsg",
        "outputId": "fbbd061c-4a06-411d-8f32-784755371574"
      },
      "outputs": [
        {
          "output_type": "stream",
          "name": "stdout",
          "text": [
            "the shape of X_train: (50174, 200)\n",
            "the shape of y_train: (50174,)\n"
          ]
        }
      ],
      "source": [
        "#printing the shape of the data\n",
        "print('the shape of X_train:',X_train.shape)\n",
        "print('the shape of y_train:',y_train.shape)\n"
      ]
    },
    {
      "cell_type": "code",
      "execution_count": 45,
      "metadata": {
        "id": "Uq9eoVlxZmsg",
        "colab": {
          "base_uri": "https://localhost:8080/"
        },
        "outputId": "9377b021-9065-4dfa-9b11-1813f2023aab"
      },
      "outputs": [
        {
          "output_type": "stream",
          "name": "stderr",
          "text": [
            "/usr/local/lib/python3.10/dist-packages/keras/src/layers/core/embedding.py:90: UserWarning: Argument `input_length` is deprecated. Just remove it.\n",
            "  warnings.warn(\n"
          ]
        }
      ],
      "source": [
        "#Building the model an Bidirectional LSTM model with Dropout Layers\n",
        "from tensorflow.keras.models import Sequential\n",
        "from tensorflow.keras.layers import Embedding, Bidirectional, LSTM,Dense, Dropout, SpatialDropout1D\n",
        "from tensorflow.keras.optimizers import Adam\n",
        "\n",
        "model = Sequential()\n",
        "model.add(Embedding(input_dim=10000,output_dim = 256, input_length=200))  # Embedding layer\n",
        "model.add(SpatialDropout1D(0.3))\n",
        "model.add(LSTM(128, return_sequences=True))  # Bidirectional LSTM layer\n",
        "model.add(Dropout(0.3))  # Dropout for regularization\n",
        "model.add(LSTM(64))  # Another Bidirectional LSTM layer\n",
        "model.add(Dropout(0.3))\n",
        "model.add(Dense(1, activation='sigmoid'))  # Output layer for binary classification\n",
        "\n",
        "# Compiling the model\n",
        "model.compile(loss='binary_crossentropy', optimizer=Adam(learning_rate=0.001), metrics=['accuracy'])"
      ]
    },
    {
      "cell_type": "code",
      "execution_count": 46,
      "metadata": {
        "colab": {
          "base_uri": "https://localhost:8080/"
        },
        "id": "_aD7HdJHZmsh",
        "outputId": "ac3ddf75-d9c4-4e63-8bb0-b93ed18e7aab"
      },
      "outputs": [
        {
          "output_type": "stream",
          "name": "stdout",
          "text": [
            "Epoch 1/10\n",
            "392/392 - 16s - 40ms/step - accuracy: 0.7425 - loss: 0.5513 - val_accuracy: 0.7325 - val_loss: 0.5721\n",
            "Epoch 2/10\n",
            "392/392 - 13s - 33ms/step - accuracy: 0.7441 - loss: 0.5178 - val_accuracy: 0.7807 - val_loss: 0.4107\n",
            "Epoch 3/10\n",
            "392/392 - 20s - 51ms/step - accuracy: 0.8034 - loss: 0.4623 - val_accuracy: 0.8508 - val_loss: 0.3557\n",
            "Epoch 4/10\n",
            "392/392 - 20s - 52ms/step - accuracy: 0.8869 - loss: 0.3028 - val_accuracy: 0.9137 - val_loss: 0.2490\n",
            "Epoch 5/10\n",
            "392/392 - 21s - 53ms/step - accuracy: 0.9282 - loss: 0.1943 - val_accuracy: 0.9467 - val_loss: 0.1442\n",
            "Epoch 6/10\n",
            "392/392 - 13s - 33ms/step - accuracy: 0.9586 - loss: 0.1169 - val_accuracy: 0.9557 - val_loss: 0.1200\n",
            "Epoch 7/10\n",
            "392/392 - 20s - 51ms/step - accuracy: 0.9728 - loss: 0.0790 - val_accuracy: 0.9593 - val_loss: 0.1152\n",
            "Epoch 8/10\n",
            "392/392 - 20s - 52ms/step - accuracy: 0.9821 - loss: 0.0571 - val_accuracy: 0.9631 - val_loss: 0.1077\n",
            "Epoch 9/10\n",
            "392/392 - 21s - 53ms/step - accuracy: 0.9875 - loss: 0.0415 - val_accuracy: 0.9634 - val_loss: 0.1029\n",
            "Epoch 10/10\n",
            "392/392 - 13s - 33ms/step - accuracy: 0.9904 - loss: 0.0324 - val_accuracy: 0.9597 - val_loss: 0.1290\n"
          ]
        }
      ],
      "source": [
        "#Training the Model\n",
        "history = model.fit(X_train, y_train, epochs=10, batch_size=128, validation_data=(X_test, y_test), verbose=2)\n"
      ]
    },
    {
      "cell_type": "code",
      "source": [
        "#Visualizing the summary of the model\n",
        "model.summary()"
      ],
      "metadata": {
        "id": "AjNPtR1dbbGZ",
        "outputId": "357e09c0-bb5c-45f6-fffb-010c76e651ca",
        "colab": {
          "base_uri": "https://localhost:8080/",
          "height": 385
        }
      },
      "execution_count": 47,
      "outputs": [
        {
          "output_type": "display_data",
          "data": {
            "text/plain": [
              "\u001b[1mModel: \"sequential_3\"\u001b[0m\n"
            ],
            "text/html": [
              "<pre style=\"white-space:pre;overflow-x:auto;line-height:normal;font-family:Menlo,'DejaVu Sans Mono',consolas,'Courier New',monospace\"><span style=\"font-weight: bold\">Model: \"sequential_3\"</span>\n",
              "</pre>\n"
            ]
          },
          "metadata": {}
        },
        {
          "output_type": "display_data",
          "data": {
            "text/plain": [
              "┏━━━━━━━━━━━━━━━━━━━━━━━━━━━━━━━━━━━━━━┳━━━━━━━━━━━━━━━━━━━━━━━━━━━━━┳━━━━━━━━━━━━━━━━━┓\n",
              "┃\u001b[1m \u001b[0m\u001b[1mLayer (type)                        \u001b[0m\u001b[1m \u001b[0m┃\u001b[1m \u001b[0m\u001b[1mOutput Shape               \u001b[0m\u001b[1m \u001b[0m┃\u001b[1m \u001b[0m\u001b[1m        Param #\u001b[0m\u001b[1m \u001b[0m┃\n",
              "┡━━━━━━━━━━━━━━━━━━━━━━━━━━━━━━━━━━━━━━╇━━━━━━━━━━━━━━━━━━━━━━━━━━━━━╇━━━━━━━━━━━━━━━━━┩\n",
              "│ embedding_2 (\u001b[38;5;33mEmbedding\u001b[0m)              │ (\u001b[38;5;45mNone\u001b[0m, \u001b[38;5;34m200\u001b[0m, \u001b[38;5;34m256\u001b[0m)            │       \u001b[38;5;34m2,560,000\u001b[0m │\n",
              "├──────────────────────────────────────┼─────────────────────────────┼─────────────────┤\n",
              "│ spatial_dropout1d_2                  │ (\u001b[38;5;45mNone\u001b[0m, \u001b[38;5;34m200\u001b[0m, \u001b[38;5;34m256\u001b[0m)            │               \u001b[38;5;34m0\u001b[0m │\n",
              "│ (\u001b[38;5;33mSpatialDropout1D\u001b[0m)                   │                             │                 │\n",
              "├──────────────────────────────────────┼─────────────────────────────┼─────────────────┤\n",
              "│ lstm_4 (\u001b[38;5;33mLSTM\u001b[0m)                        │ (\u001b[38;5;45mNone\u001b[0m, \u001b[38;5;34m200\u001b[0m, \u001b[38;5;34m128\u001b[0m)            │         \u001b[38;5;34m197,120\u001b[0m │\n",
              "├──────────────────────────────────────┼─────────────────────────────┼─────────────────┤\n",
              "│ dropout_4 (\u001b[38;5;33mDropout\u001b[0m)                  │ (\u001b[38;5;45mNone\u001b[0m, \u001b[38;5;34m200\u001b[0m, \u001b[38;5;34m128\u001b[0m)            │               \u001b[38;5;34m0\u001b[0m │\n",
              "├──────────────────────────────────────┼─────────────────────────────┼─────────────────┤\n",
              "│ lstm_5 (\u001b[38;5;33mLSTM\u001b[0m)                        │ (\u001b[38;5;45mNone\u001b[0m, \u001b[38;5;34m64\u001b[0m)                  │          \u001b[38;5;34m49,408\u001b[0m │\n",
              "├──────────────────────────────────────┼─────────────────────────────┼─────────────────┤\n",
              "│ dropout_5 (\u001b[38;5;33mDropout\u001b[0m)                  │ (\u001b[38;5;45mNone\u001b[0m, \u001b[38;5;34m64\u001b[0m)                  │               \u001b[38;5;34m0\u001b[0m │\n",
              "├──────────────────────────────────────┼─────────────────────────────┼─────────────────┤\n",
              "│ dense_2 (\u001b[38;5;33mDense\u001b[0m)                      │ (\u001b[38;5;45mNone\u001b[0m, \u001b[38;5;34m1\u001b[0m)                   │              \u001b[38;5;34m65\u001b[0m │\n",
              "└──────────────────────────────────────┴─────────────────────────────┴─────────────────┘\n"
            ],
            "text/html": [
              "<pre style=\"white-space:pre;overflow-x:auto;line-height:normal;font-family:Menlo,'DejaVu Sans Mono',consolas,'Courier New',monospace\">┏━━━━━━━━━━━━━━━━━━━━━━━━━━━━━━━━━━━━━━┳━━━━━━━━━━━━━━━━━━━━━━━━━━━━━┳━━━━━━━━━━━━━━━━━┓\n",
              "┃<span style=\"font-weight: bold\"> Layer (type)                         </span>┃<span style=\"font-weight: bold\"> Output Shape                </span>┃<span style=\"font-weight: bold\">         Param # </span>┃\n",
              "┡━━━━━━━━━━━━━━━━━━━━━━━━━━━━━━━━━━━━━━╇━━━━━━━━━━━━━━━━━━━━━━━━━━━━━╇━━━━━━━━━━━━━━━━━┩\n",
              "│ embedding_2 (<span style=\"color: #0087ff; text-decoration-color: #0087ff\">Embedding</span>)              │ (<span style=\"color: #00d7ff; text-decoration-color: #00d7ff\">None</span>, <span style=\"color: #00af00; text-decoration-color: #00af00\">200</span>, <span style=\"color: #00af00; text-decoration-color: #00af00\">256</span>)            │       <span style=\"color: #00af00; text-decoration-color: #00af00\">2,560,000</span> │\n",
              "├──────────────────────────────────────┼─────────────────────────────┼─────────────────┤\n",
              "│ spatial_dropout1d_2                  │ (<span style=\"color: #00d7ff; text-decoration-color: #00d7ff\">None</span>, <span style=\"color: #00af00; text-decoration-color: #00af00\">200</span>, <span style=\"color: #00af00; text-decoration-color: #00af00\">256</span>)            │               <span style=\"color: #00af00; text-decoration-color: #00af00\">0</span> │\n",
              "│ (<span style=\"color: #0087ff; text-decoration-color: #0087ff\">SpatialDropout1D</span>)                   │                             │                 │\n",
              "├──────────────────────────────────────┼─────────────────────────────┼─────────────────┤\n",
              "│ lstm_4 (<span style=\"color: #0087ff; text-decoration-color: #0087ff\">LSTM</span>)                        │ (<span style=\"color: #00d7ff; text-decoration-color: #00d7ff\">None</span>, <span style=\"color: #00af00; text-decoration-color: #00af00\">200</span>, <span style=\"color: #00af00; text-decoration-color: #00af00\">128</span>)            │         <span style=\"color: #00af00; text-decoration-color: #00af00\">197,120</span> │\n",
              "├──────────────────────────────────────┼─────────────────────────────┼─────────────────┤\n",
              "│ dropout_4 (<span style=\"color: #0087ff; text-decoration-color: #0087ff\">Dropout</span>)                  │ (<span style=\"color: #00d7ff; text-decoration-color: #00d7ff\">None</span>, <span style=\"color: #00af00; text-decoration-color: #00af00\">200</span>, <span style=\"color: #00af00; text-decoration-color: #00af00\">128</span>)            │               <span style=\"color: #00af00; text-decoration-color: #00af00\">0</span> │\n",
              "├──────────────────────────────────────┼─────────────────────────────┼─────────────────┤\n",
              "│ lstm_5 (<span style=\"color: #0087ff; text-decoration-color: #0087ff\">LSTM</span>)                        │ (<span style=\"color: #00d7ff; text-decoration-color: #00d7ff\">None</span>, <span style=\"color: #00af00; text-decoration-color: #00af00\">64</span>)                  │          <span style=\"color: #00af00; text-decoration-color: #00af00\">49,408</span> │\n",
              "├──────────────────────────────────────┼─────────────────────────────┼─────────────────┤\n",
              "│ dropout_5 (<span style=\"color: #0087ff; text-decoration-color: #0087ff\">Dropout</span>)                  │ (<span style=\"color: #00d7ff; text-decoration-color: #00d7ff\">None</span>, <span style=\"color: #00af00; text-decoration-color: #00af00\">64</span>)                  │               <span style=\"color: #00af00; text-decoration-color: #00af00\">0</span> │\n",
              "├──────────────────────────────────────┼─────────────────────────────┼─────────────────┤\n",
              "│ dense_2 (<span style=\"color: #0087ff; text-decoration-color: #0087ff\">Dense</span>)                      │ (<span style=\"color: #00d7ff; text-decoration-color: #00d7ff\">None</span>, <span style=\"color: #00af00; text-decoration-color: #00af00\">1</span>)                   │              <span style=\"color: #00af00; text-decoration-color: #00af00\">65</span> │\n",
              "└──────────────────────────────────────┴─────────────────────────────┴─────────────────┘\n",
              "</pre>\n"
            ]
          },
          "metadata": {}
        },
        {
          "output_type": "display_data",
          "data": {
            "text/plain": [
              "\u001b[1m Total params: \u001b[0m\u001b[38;5;34m8,419,781\u001b[0m (32.12 MB)\n"
            ],
            "text/html": [
              "<pre style=\"white-space:pre;overflow-x:auto;line-height:normal;font-family:Menlo,'DejaVu Sans Mono',consolas,'Courier New',monospace\"><span style=\"font-weight: bold\"> Total params: </span><span style=\"color: #00af00; text-decoration-color: #00af00\">8,419,781</span> (32.12 MB)\n",
              "</pre>\n"
            ]
          },
          "metadata": {}
        },
        {
          "output_type": "display_data",
          "data": {
            "text/plain": [
              "\u001b[1m Trainable params: \u001b[0m\u001b[38;5;34m2,806,593\u001b[0m (10.71 MB)\n"
            ],
            "text/html": [
              "<pre style=\"white-space:pre;overflow-x:auto;line-height:normal;font-family:Menlo,'DejaVu Sans Mono',consolas,'Courier New',monospace\"><span style=\"font-weight: bold\"> Trainable params: </span><span style=\"color: #00af00; text-decoration-color: #00af00\">2,806,593</span> (10.71 MB)\n",
              "</pre>\n"
            ]
          },
          "metadata": {}
        },
        {
          "output_type": "display_data",
          "data": {
            "text/plain": [
              "\u001b[1m Non-trainable params: \u001b[0m\u001b[38;5;34m0\u001b[0m (0.00 B)\n"
            ],
            "text/html": [
              "<pre style=\"white-space:pre;overflow-x:auto;line-height:normal;font-family:Menlo,'DejaVu Sans Mono',consolas,'Courier New',monospace\"><span style=\"font-weight: bold\"> Non-trainable params: </span><span style=\"color: #00af00; text-decoration-color: #00af00\">0</span> (0.00 B)\n",
              "</pre>\n"
            ]
          },
          "metadata": {}
        },
        {
          "output_type": "display_data",
          "data": {
            "text/plain": [
              "\u001b[1m Optimizer params: \u001b[0m\u001b[38;5;34m5,613,188\u001b[0m (21.41 MB)\n"
            ],
            "text/html": [
              "<pre style=\"white-space:pre;overflow-x:auto;line-height:normal;font-family:Menlo,'DejaVu Sans Mono',consolas,'Courier New',monospace\"><span style=\"font-weight: bold\"> Optimizer params: </span><span style=\"color: #00af00; text-decoration-color: #00af00\">5,613,188</span> (21.41 MB)\n",
              "</pre>\n"
            ]
          },
          "metadata": {}
        }
      ]
    },
    {
      "cell_type": "code",
      "execution_count": 48,
      "metadata": {
        "colab": {
          "base_uri": "https://localhost:8080/"
        },
        "id": "F1ChZuFYZmsh",
        "outputId": "c62366c3-adde-42fb-d0ee-86289de6f947"
      },
      "outputs": [
        {
          "output_type": "stream",
          "name": "stdout",
          "text": [
            "\u001b[1m392/392\u001b[0m \u001b[32m━━━━━━━━━━━━━━━━━━━━\u001b[0m\u001b[37m\u001b[0m \u001b[1m3s\u001b[0m 7ms/step\n"
          ]
        }
      ],
      "source": [
        "#Evaluating the Model\n",
        "from sklearn.metrics import accuracy_score, classification_report\n",
        "\n",
        "# Make predictions on the test set\n",
        "y_pred = model.predict(X_test)\n",
        "y_pred_classes = (y_pred > 0.5).astype(int)  # Convert probabilities to binary predictions\n",
        "\n"
      ]
    },
    {
      "cell_type": "code",
      "source": [
        "# Calculate accuracy\n",
        "accuracy = accuracy_score(y_test, y_pred_classes)\n",
        "print(f\"Accuracy: {accuracy}\")"
      ],
      "metadata": {
        "id": "3Qk5mc1oZb_0",
        "outputId": "b848426c-dece-4602-acbb-3df29320ccfd",
        "colab": {
          "base_uri": "https://localhost:8080/"
        }
      },
      "execution_count": 49,
      "outputs": [
        {
          "output_type": "stream",
          "name": "stdout",
          "text": [
            "Accuracy: 0.9597417091836735\n"
          ]
        }
      ]
    },
    {
      "cell_type": "code",
      "execution_count": 50,
      "metadata": {
        "colab": {
          "base_uri": "https://localhost:8080/"
        },
        "id": "V5Gq8LE3xMhs",
        "outputId": "45fc0044-f19e-4839-a2bb-f808f705a847"
      },
      "outputs": [
        {
          "output_type": "stream",
          "name": "stdout",
          "text": [
            "              precision    recall  f1-score   support\n",
            "\n",
            "           0       0.97      0.95      0.96      6922\n",
            "           1       0.94      0.97      0.96      5622\n",
            "\n",
            "    accuracy                           0.96     12544\n",
            "   macro avg       0.96      0.96      0.96     12544\n",
            "weighted avg       0.96      0.96      0.96     12544\n",
            "\n"
          ]
        }
      ],
      "source": [
        "#classification score\n",
        "print(classification_report(y_test, y_pred_classes))"
      ]
    },
    {
      "cell_type": "code",
      "execution_count": 51,
      "metadata": {
        "colab": {
          "base_uri": "https://localhost:8080/",
          "height": 539
        },
        "id": "EYtVttp6xkmN",
        "outputId": "e15d0165-83c1-4743-ecc4-18979f5b7909"
      },
      "outputs": [
        {
          "output_type": "execute_result",
          "data": {
            "text/plain": [
              "<Axes: >"
            ]
          },
          "metadata": {},
          "execution_count": 51
        },
        {
          "output_type": "display_data",
          "data": {
            "text/plain": [
              "<Figure size 800x600 with 2 Axes>"
            ],
            "image/png": "[encoded data removed]"
          },
          "metadata": {}
        }
      ],
      "source": [
        "#applying the confusion matrix to visualize the evaluation\n",
        "from sklearn.metrics import confusion_matrix\n",
        "import matplotlib.pyplot as plt\n",
        "import seaborn as sns\n",
        "cm = confusion_matrix(y_test, y_pred_classes)\n",
        "plt.figure(figsize=(8, 6))\n",
        "sns.heatmap(cm, annot=True, fmt='d', cmap='Blues', xticklabels=['Real', 'Fake'], yticklabels=['Real', 'Fake'])"
      ]
    },
    {
      "cell_type": "code",
      "source": [
        "plt.figure(figsize=(8, 6))\n",
        "plt.plot(history.history['accuracy'])\n",
        "plt.plot(history.history['val_accuracy'])\n",
        "plt.xlabel('Epoch')\n",
        "plt.ylabel('Accuracy')\n",
        "plt.legend(['Train', 'Test'])\n",
        "plt.show()"
      ],
      "metadata": {
        "id": "-ep16-_5azB4",
        "outputId": "af5d531d-7d11-43bb-ca5d-ecd55de8b290",
        "colab": {
          "base_uri": "https://localhost:8080/",
          "height": 542
        }
      },
      "execution_count": 52,
      "outputs": [
        {
          "output_type": "display_data",
          "data": {
            "text/plain": [
              "<Figure size 800x600 with 1 Axes>"
            ],
            "image/png": "[encoded data removed]"
          },
          "metadata": {}
        }
      ]
    },
    {
      "cell_type": "code",
      "source": [
        "plt.figure(figsize = (8,6))\n",
        "plt.plot(history.history['loss'])\n",
        "plt.plot(history.history['val_loss'])\n",
        "plt.xlabel('Epoch')\n",
        "plt.ylabel('Loss')\n",
        "plt.legend(['Train','Test'])\n",
        "plt.show()"
      ],
      "metadata": {
        "id": "EnFVmFlDbqGA",
        "outputId": "642b9eb7-aca5-47d2-93e2-81a8a9be9814",
        "colab": {
          "base_uri": "https://localhost:8080/",
          "height": 542
        }
      },
      "execution_count": 53,
      "outputs": [
        {
          "output_type": "display_data",
          "data": {
            "text/plain": [
              "<Figure size 800x600 with 1 Axes>"
            ],
            "image/png": "[encoded data removed]"
          },
          "metadata": {}
        }
      ]
    },
    {
      "cell_type": "code",
      "execution_count": 56,
      "metadata": {
        "colab": {
          "base_uri": "https://localhost:8080/"
        },
        "id": "14iEgAQMg5ou",
        "outputId": "2e450623-887d-45c0-cd5c-366734d0672d"
      },
      "outputs": [
        {
          "output_type": "stream",
          "name": "stderr",
          "text": [
            "WARNING:absl:You are saving your model as an HDF5 file via `model.save()` or `keras.saving.save_model(model)`. This file format is considered legacy. We recommend using instead the native Keras format, e.g. `model.save('my_model.keras')` or `keras.saving.save_model(model, 'my_model.keras')`. \n"
          ]
        }
      ],
      "source": [
        "#Saving the model\n",
        "model.save('fake_news_classifier_bidir_lstm.h5')"
      ]
    }
  ],
  "metadata": {
    "accelerator": "GPU",
    "colab": {
      "gpuType": "T4",
      "provenance": []
    },
    "kernelspec": {
      "display_name": "Python 3",
      "name": "python3"
    },
    "language_info": {
      "codemirror_mode": {
        "name": "ipython",
        "version": 3
      },
      "file_extension": ".py",
      "mimetype": "text/x-python",
      "name": "python",
      "nbconvert_exporter": "python",
      "pygments_lexer": "ipython3",
      "version": "3.12.5"
    }
  },
  "nbformat": 4,
  "nbformat_minor": 0
}