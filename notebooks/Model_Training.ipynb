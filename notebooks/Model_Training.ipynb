{
  "cells": [
    {
      "cell_type": "markdown",
      "metadata": {
        "id": "view-in-github",
        "colab_type": "text"
      },
      "source": [
        "<a href=\"https://colab.research.google.com/github/safiqurrahmang7/Project-Fake_news_classifier/blob/main/notebooks/Model_Training.ipynb\" target=\"_parent\"><img src=\"https://colab.research.google.com/assets/colab-badge.svg\" alt=\"Open In Colab\"/></a>"
      ]
    },
    {
      "cell_type": "code",
      "execution_count": 1,
      "metadata": {
        "id": "AifRs-nMZmsd"
      },
      "outputs": [],
      "source": [
        "import pandas as pd\n",
        "df = pd.read_csv('/content/fake_news_processed.csv')"
      ]
    },
    {
      "cell_type": "code",
      "execution_count": 2,
      "metadata": {
        "colab": {
          "base_uri": "https://localhost:8080/",
          "height": 275
        },
        "id": "E3C_Ro8WZmse",
        "outputId": "111c135a-919d-41e2-914c-78700c057805"
      },
      "outputs": [
        {
          "output_type": "execute_result",
          "data": {
            "text/plain": [
              "                                                text  label  \\\n",
              "0  no comment is expected from barack obama membe...      1   \n",
              "1      did they post their votes for hillary already      1   \n",
              "2   now most of the demonstrators gathered last n...      1   \n",
              "3  a dozen politically active pastors came here f...      0   \n",
              "4  the rs28 sarmat missile dubbed satan 2 will re...      1   \n",
              "\n",
              "                                      processed_text  \n",
              "0  no comment is expected from barack obama membe...  \n",
              "1       did they post their vote for hillary already  \n",
              "2  now most of the demonstrator gathered last nig...  \n",
              "3  a dozen politically active pastor came here fo...  \n",
              "4  the rs28 sarmat missile dubbed satan 2 will re...  "
            ],
            "text/html": [
              "\n",
              "  <div id=\"df-7ee6e85f-2319-40fc-b983-7a89a4b34b4d\" class=\"colab-df-container\">\n",
              "    <div>\n",
              "<style scoped>\n",
              "    .dataframe tbody tr th:only-of-type {\n",
              "        vertical-align: middle;\n",
              "    }\n",
              "\n",
              "    .dataframe tbody tr th {\n",
              "        vertical-align: top;\n",
              "    }\n",
              "\n",
              "    .dataframe thead th {\n",
              "        text-align: right;\n",
              "    }\n",
              "</style>\n",
              "<table border=\"1\" class=\"dataframe\">\n",
              "  <thead>\n",
              "    <tr style=\"text-align: right;\">\n",
              "      <th></th>\n",
              "      <th>text</th>\n",
              "      <th>label</th>\n",
              "      <th>processed_text</th>\n",
              "    </tr>\n",
              "  </thead>\n",
              "  <tbody>\n",
              "    <tr>\n",
              "      <th>0</th>\n",
              "      <td>no comment is expected from barack obama membe...</td>\n",
              "      <td>1</td>\n",
              "      <td>no comment is expected from barack obama membe...</td>\n",
              "    </tr>\n",
              "    <tr>\n",
              "      <th>1</th>\n",
              "      <td>did they post their votes for hillary already</td>\n",
              "      <td>1</td>\n",
              "      <td>did they post their vote for hillary already</td>\n",
              "    </tr>\n",
              "    <tr>\n",
              "      <th>2</th>\n",
              "      <td>now most of the demonstrators gathered last n...</td>\n",
              "      <td>1</td>\n",
              "      <td>now most of the demonstrator gathered last nig...</td>\n",
              "    </tr>\n",
              "    <tr>\n",
              "      <th>3</th>\n",
              "      <td>a dozen politically active pastors came here f...</td>\n",
              "      <td>0</td>\n",
              "      <td>a dozen politically active pastor came here fo...</td>\n",
              "    </tr>\n",
              "    <tr>\n",
              "      <th>4</th>\n",
              "      <td>the rs28 sarmat missile dubbed satan 2 will re...</td>\n",
              "      <td>1</td>\n",
              "      <td>the rs28 sarmat missile dubbed satan 2 will re...</td>\n",
              "    </tr>\n",
              "  </tbody>\n",
              "</table>\n",
              "</div>\n",
              "    <div class=\"colab-df-buttons\">\n",
              "\n",
              "  <div class=\"colab-df-container\">\n",
              "    <button class=\"colab-df-convert\" onclick=\"convertToInteractive('df-7ee6e85f-2319-40fc-b983-7a89a4b34b4d')\"\n",
              "            title=\"Convert this dataframe to an interactive table.\"\n",
              "            style=\"display:none;\">\n",
              "\n",
              "  <svg xmlns=\"http://www.w3.org/2000/svg\" height=\"24px\" viewBox=\"0 -960 960 960\">\n",
              "    <path d=\"M120-120v-720h720v720H120Zm60-500h600v-160H180v160Zm220 220h160v-160H400v160Zm0 220h160v-160H400v160ZM180-400h160v-160H180v160Zm440 0h160v-160H620v160ZM180-180h160v-160H180v160Zm440 0h160v-160H620v160Z\"/>\n",
              "  </svg>\n",
              "    </button>\n",
              "\n",
              "  <style>\n",
              "    .colab-df-container {\n",
              "      display:flex;\n",
              "      gap: 12px;\n",
              "    }\n",
              "\n",
              "    .colab-df-convert {\n",
              "      background-color: #E8F0FE;\n",
              "      border: none;\n",
              "      border-radius: 50%;\n",
              "      cursor: pointer;\n",
              "      display: none;\n",
              "      fill: #1967D2;\n",
              "      height: 32px;\n",
              "      padding: 0 0 0 0;\n",
              "      width: 32px;\n",
              "    }\n",
              "\n",
              "    .colab-df-convert:hover {\n",
              "      background-color: #E2EBFA;\n",
              "      box-shadow: 0px 1px 2px rgba(60, 64, 67, 0.3), 0px 1px 3px 1px rgba(60, 64, 67, 0.15);\n",
              "      fill: #174EA6;\n",
              "    }\n",
              "\n",
              "    .colab-df-buttons div {\n",
              "      margin-bottom: 4px;\n",
              "    }\n",
              "\n",
              "    [theme=dark] .colab-df-convert {\n",
              "      background-color: #3B4455;\n",
              "      fill: #D2E3FC;\n",
              "    }\n",
              "\n",
              "    [theme=dark] .colab-df-convert:hover {\n",
              "      background-color: #434B5C;\n",
              "      box-shadow: 0px 1px 3px 1px rgba(0, 0, 0, 0.15);\n",
              "      filter: drop-shadow(0px 1px 2px rgba(0, 0, 0, 0.3));\n",
              "      fill: #FFFFFF;\n",
              "    }\n",
              "  </style>\n",
              "\n",
              "    <script>\n",
              "      const buttonEl =\n",
              "        document.querySelector('#df-7ee6e85f-2319-40fc-b983-7a89a4b34b4d button.colab-df-convert');\n",
              "      buttonEl.style.display =\n",
              "        google.colab.kernel.accessAllowed ? 'block' : 'none';\n",
              "\n",
              "      async function convertToInteractive(key) {\n",
              "        const element = document.querySelector('#df-7ee6e85f-2319-40fc-b983-7a89a4b34b4d');\n",
              "        const dataTable =\n",
              "          await google.colab.kernel.invokeFunction('convertToInteractive',\n",
              "                                                    [key], {});\n",
              "        if (!dataTable) return;\n",
              "\n",
              "        const docLinkHtml = 'Like what you see? Visit the ' +\n",
              "          '<a target=\"_blank\" href=https://colab.research.google.com/notebooks/data_table.ipynb>data table notebook</a>'\n",
              "          + ' to learn more about interactive tables.';\n",
              "        element.innerHTML = '';\n",
              "        dataTable['output_type'] = 'display_data';\n",
              "        await google.colab.output.renderOutput(dataTable, element);\n",
              "        const docLink = document.createElement('div');\n",
              "        docLink.innerHTML = docLinkHtml;\n",
              "        element.appendChild(docLink);\n",
              "      }\n",
              "    </script>\n",
              "  </div>\n",
              "\n",
              "\n",
              "<div id=\"df-bb94c82d-6bd1-4ab6-8c60-7c4ff54dc2ed\">\n",
              "  <button class=\"colab-df-quickchart\" onclick=\"quickchart('df-bb94c82d-6bd1-4ab6-8c60-7c4ff54dc2ed')\"\n",
              "            title=\"Suggest charts\"\n",
              "            style=\"display:none;\">\n",
              "\n",
              "<svg xmlns=\"http://www.w3.org/2000/svg\" height=\"24px\"viewBox=\"0 0 24 24\"\n",
              "     width=\"24px\">\n",
              "    <g>\n",
              "        <path d=\"M19 3H5c-1.1 0-2 .9-2 2v14c0 1.1.9 2 2 2h14c1.1 0 2-.9 2-2V5c0-1.1-.9-2-2-2zM9 17H7v-7h2v7zm4 0h-2V7h2v10zm4 0h-2v-4h2v4z\"/>\n",
              "    </g>\n",
              "</svg>\n",
              "  </button>\n",
              "\n",
              "<style>\n",
              "  .colab-df-quickchart {\n",
              "      --bg-color: #E8F0FE;\n",
              "      --fill-color: #1967D2;\n",
              "      --hover-bg-color: #E2EBFA;\n",
              "      --hover-fill-color: #174EA6;\n",
              "      --disabled-fill-color: #AAA;\n",
              "      --disabled-bg-color: #DDD;\n",
              "  }\n",
              "\n",
              "  [theme=dark] .colab-df-quickchart {\n",
              "      --bg-color: #3B4455;\n",
              "      --fill-color: #D2E3FC;\n",
              "      --hover-bg-color: #434B5C;\n",
              "      --hover-fill-color: #FFFFFF;\n",
              "      --disabled-bg-color: #3B4455;\n",
              "      --disabled-fill-color: #666;\n",
              "  }\n",
              "\n",
              "  .colab-df-quickchart {\n",
              "    background-color: var(--bg-color);\n",
              "    border: none;\n",
              "    border-radius: 50%;\n",
              "    cursor: pointer;\n",
              "    display: none;\n",
              "    fill: var(--fill-color);\n",
              "    height: 32px;\n",
              "    padding: 0;\n",
              "    width: 32px;\n",
              "  }\n",
              "\n",
              "  .colab-df-quickchart:hover {\n",
              "    background-color: var(--hover-bg-color);\n",
              "    box-shadow: 0 1px 2px rgba(60, 64, 67, 0.3), 0 1px 3px 1px rgba(60, 64, 67, 0.15);\n",
              "    fill: var(--button-hover-fill-color);\n",
              "  }\n",
              "\n",
              "  .colab-df-quickchart-complete:disabled,\n",
              "  .colab-df-quickchart-complete:disabled:hover {\n",
              "    background-color: var(--disabled-bg-color);\n",
              "    fill: var(--disabled-fill-color);\n",
              "    box-shadow: none;\n",
              "  }\n",
              "\n",
              "  .colab-df-spinner {\n",
              "    border: 2px solid var(--fill-color);\n",
              "    border-color: transparent;\n",
              "    border-bottom-color: var(--fill-color);\n",
              "    animation:\n",
              "      spin 1s steps(1) infinite;\n",
              "  }\n",
              "\n",
              "  @keyframes spin {\n",
              "    0% {\n",
              "      border-color: transparent;\n",
              "      border-bottom-color: var(--fill-color);\n",
              "      border-left-color: var(--fill-color);\n",
              "    }\n",
              "    20% {\n",
              "      border-color: transparent;\n",
              "      border-left-color: var(--fill-color);\n",
              "      border-top-color: var(--fill-color);\n",
              "    }\n",
              "    30% {\n",
              "      border-color: transparent;\n",
              "      border-left-color: var(--fill-color);\n",
              "      border-top-color: var(--fill-color);\n",
              "      border-right-color: var(--fill-color);\n",
              "    }\n",
              "    40% {\n",
              "      border-color: transparent;\n",
              "      border-right-color: var(--fill-color);\n",
              "      border-top-color: var(--fill-color);\n",
              "    }\n",
              "    60% {\n",
              "      border-color: transparent;\n",
              "      border-right-color: var(--fill-color);\n",
              "    }\n",
              "    80% {\n",
              "      border-color: transparent;\n",
              "      border-right-color: var(--fill-color);\n",
              "      border-bottom-color: var(--fill-color);\n",
              "    }\n",
              "    90% {\n",
              "      border-color: transparent;\n",
              "      border-bottom-color: var(--fill-color);\n",
              "    }\n",
              "  }\n",
              "</style>\n",
              "\n",
              "  <script>\n",
              "    async function quickchart(key) {\n",
              "      const quickchartButtonEl =\n",
              "        document.querySelector('#' + key + ' button');\n",
              "      quickchartButtonEl.disabled = true;  // To prevent multiple clicks.\n",
              "      quickchartButtonEl.classList.add('colab-df-spinner');\n",
              "      try {\n",
              "        const charts = await google.colab.kernel.invokeFunction(\n",
              "            'suggestCharts', [key], {});\n",
              "      } catch (error) {\n",
              "        console.error('Error during call to suggestCharts:', error);\n",
              "      }\n",
              "      quickchartButtonEl.classList.remove('colab-df-spinner');\n",
              "      quickchartButtonEl.classList.add('colab-df-quickchart-complete');\n",
              "    }\n",
              "    (() => {\n",
              "      let quickchartButtonEl =\n",
              "        document.querySelector('#df-bb94c82d-6bd1-4ab6-8c60-7c4ff54dc2ed button');\n",
              "      quickchartButtonEl.style.display =\n",
              "        google.colab.kernel.accessAllowed ? 'block' : 'none';\n",
              "    })();\n",
              "  </script>\n",
              "</div>\n",
              "\n",
              "    </div>\n",
              "  </div>\n"
            ],
            "application/vnd.google.colaboratory.intrinsic+json": {
              "type": "dataframe",
              "variable_name": "df",
              "summary": "{\n  \"name\": \"df\",\n  \"rows\": 3245,\n  \"fields\": [\n    {\n      \"column\": \"text\",\n      \"properties\": {\n        \"dtype\": \"string\",\n        \"num_unique_values\": 3245,\n        \"samples\": [\n          \"3 congressional it employees have been fired for accessing members computer networks without permission maria s on the show knows more about this can you fill me in a bithere are their names stuart let me tell you what the 3 people that were fired on thursday abid imran and jamal awan they were barred from computer networks at the house of representatives on thursday because they accessed congressmen and congress people s computer networks unauthorized at a minimum they were fired at a minimum we know that they accessed computers unauthorized and they did so in foreign intelligence foreign affairs and intelligence committees  okay so they were getting very important information government information they accessed these computers that is the least of it there s also some talk that people are looking into what ties they have into terrorism are they impacted by the muslim brotherhood are they a part of the muslim brotherhood one of them has a criminal backgroundhow is it possible that 3 brothers are hired muslim brothers just saying to work in congress and deal with our most intelligent and sensitive information number one they were all making 160000 why were they paid so much 22 years old one of the guys the other was 25 they re making 160000 161000 and 165000 and one of them has a criminal background i hear what you re saying i mean these intelligence committees handle our terror strategies right they got in on benghazi by the wayyes and they also worked for many democrats in the house they are thinking that they may be also one of the reasons debbie wasserman schultz got hacked there s so much more to come on this stuart it s an incredible story i think it s amazingchiefs of staff for dozens of democratic lawmakers who employed the four were informed last week that a criminal probe was underway into their use of congressional information technology systems including the existence of an external server to which house data was being funneled and into the theft of and overbilling for computer equipmenttheir salaries and time were shared among dozens of democratic members including former democratic national committee chairman rep debbie wasserman schultz of floridachiefs of staff for dozens of democratic lawmakers who employed the four were informed last week that a criminal probe was underway into their use of congressional information technology systems including the existence of an external server to which house data was being funneled and into the theft of and overbilling for computer equipmentdespite the generous salaries the four were involved in multiple suspicious mortgage transfers and a debtevading bankruptcy abid had more than 1 million in debts following a failed business called cars international that he ran in falls church va from november 2009 to september 2010 business associates said in court documents that abid had stolen money and vehicles from themit s unclear how abid found time to run an automotive business while working fulltime for congress he had been on the congressional payroll since 2005 a congressional credit union repossessed two of his personal cars before the business foldedabid filed for bankruptcy in 2012 but somehow managed to keep ownership of two houses while telling the bankruptcy court and creditors that he had no assets with which to pay them he signed a sworn statement that he and his wife natalia soba were living apart and needed separate residences my spouse and i are legally separated under applicable nonbankruptcy law or my spouse and i are living apart other than for the purpose of evading the requirements of   707b2a of the bankruptcy code  abid claimed in bankruptcy documents but both houses had been in the family for yearsabid s record includes numerous driving and alcoholrelated legal problems including driving with a suspended or revoked license court records show he was found guilty of drunk driving a month before he started at the house and was arrested for public intoxication a month after his first daya spokesman for rep joaquin castro of texas told thedcnf friday that jamal s  employment with our office has been terminated hilarie chambers a spokeswoman for rep sandy levin   who employed abid   told thedcnf that  after being notified by the house administration committee this individual was removed from our payroll we are confident that everything in our office is secure not every democrat is willing to terminate their connection with these foursome democrats have not terminated their connection with the four including wasserman schultz who employs imran and who resigned from her dnc post last year after a computer hack revealed embarassing emails derrick robinson spokesman for california rep karen bass refused to comment on alvi s employment statusfor entire story daily caller \",\n          \" by patrick j buchananthat the trump presidency is bedeviled is undeniableas president donald trump flew off for august at his jersey club there came word that special counsel robert mueller iii had impaneled a grand jury and subpoenas were going out to trump family and campaign associatesthe jurors will be drawn from a pool of citizens in a city hillary clinton swept with 91 percent of the vote trump got 4 percentwhatever indictments mueller wants mueller getsthanks to a media that savages him ceaselessly trump is down to 33 percent approval in a quinnipiac university poll and below 40 percent in most of the restbefore trump departed dc the washington post ran transcripts of his phone conversations with the leaders of mexico and australiaeven obama administration veterans were stunnedso it is time to ask if this city brings trump down will the rest of america rejoicewhat will be the reaction out there in flyover country that land where the  deplorables  dwell who produce the soldiers to fight our wars will they toast the  free press  that brought down the president they elected and in whom they had placed so much hopemy guess the reaction will be one of bitterness cynicism despair a sense that the fix is in that no matter what we do they will not let us win if trump is brought down american democracy will take a pasting it will be seen as a fraud and the backlash will poison our politics to where only an attack from abroad like 911 will reunite usour media preen and posture as the defenders of democracy devoted to truth who provide us roundtheclock protection from tyranny but half the nation already sees the media as a propaganda arm of a liberal establishment that the people have rejected time and againconsider the post s publication of the transcripts of trump s calls with mexico s president and australia s prime ministerwhen reporter greg miller got these transcripts his editors knowing they would damage trump plastered them on page 1the post was letting itself be used by a leaker engaged in disloyal and possibly criminal misconduct yet the post agreed to provide confidentiality and to hide the trumphater s identitythis is what we do says the post people have a right to know if president trump says one thing at rallies about mexico paying for the wall and another to the president of mexico this is a storybut there is a far larger story here of which this post piece is but an exhibit it is the story of a concerted campaign in which the antitrump media publish leaks even criminal leaks out of the fbi cia nsa and nsc to bring down a president whom the beltway media and their deepstate collaborators both despise and wish to destroydid trump collude with putin to defeat clinton the beltway media demand to know even as they daily collude with deepstate criminals to bring down the president of the united statesand if there is an unfolding silent coup by the regime americans repudiated in 2016   to use security leaks and the lethal weapon of a special counsel to overturn the election results   is that not a story worth covering as much as what trump said to pena nietodo the people not have a right know who are the snakes collaborating with the nevertrump press to bring down their head of state is not discovering the identities of deepstate felons a story that investigative reporters should be all overif greg miller is obligated to protect his source fine but why are other journalists not exposing his identitythe answer suggests itself this is a collaborative enterprise where everyone protects everyone else s sources because all have the same goal the dumping of trump if that requires collusion with criminals so be itthe justice department is now running down the leaks and the aclu s ben wizner is apoplectic  every american should be concerned about the trump administration s threat to step up its efforts against whistleblowers and journalists a crackdown on leaks is a crackdown on the free press and on democracy that s one way to put it another is that some of these  whistleblowers  are political criminals who reject the verdict of the american electorate in 2016 and are out to overturn it and the aforementioned  journalists  are their enablers and collaboratorsand if as wizner s asserts protecting secrets is tantamount to a  crackdown on the free press and democracy  no wonder the free press and democracy are falling into disrepute all over the worldby colluding the mainstream media deep state and the special prosecutor s button men with a license to roam may bring down yet another president so doing they will validate john adams s insight democracy never lasts long it soon wastes exhausts and murders itself there never was a democracy yet that did not commit suicide this story was originally published at lew rockwellcomauthor patrick j buchanan is cofounder and editor of the american conservative he is also the author of where the right went wrong and churchill hitler and the unnecessary war his latest book is nixon s white house wars the battles that made and broke a president and divided america forever see his website read more trump news at 21st century wire trump filessupport 21wire  subscribe  become a member  21wiretv\",\n          \"nairobi reuters  kenyan president uhuru kenyatta said on tuesday that any african can get a visa on arrival in kenya and will be free to settle in the country if they marry a kenyan removing restrictions on some nations   if you wish and find a willing partner you can marry and settle in kenya  he said during his inauguration address saying the move was designed to cement african ties  this commitment we make again with no requirement for reciprocity   \"\n        ],\n        \"semantic_type\": \"\",\n        \"description\": \"\"\n      }\n    },\n    {\n      \"column\": \"label\",\n      \"properties\": {\n        \"dtype\": \"number\",\n        \"std\": 0,\n        \"min\": 0,\n        \"max\": 1,\n        \"num_unique_values\": 2,\n        \"samples\": [\n          0,\n          1\n        ],\n        \"semantic_type\": \"\",\n        \"description\": \"\"\n      }\n    },\n    {\n      \"column\": \"processed_text\",\n      \"properties\": {\n        \"dtype\": \"string\",\n        \"num_unique_values\": 3243,\n        \"samples\": [\n          \"3 congressional it employee have been fired for accessing member computer network without permission maria s on the show know more about this can you fill me in a bithere are their name stuart let me tell you what the 3 people that were fired on thursday abid imran and jamal awan they were barred from computer network at the house of representative on thursday because they accessed congressman and congress people s computer network unauthorized at a minimum they were fired at a minimum we know that they accessed computer unauthorized and they did so in foreign intelligence foreign affair and intelligence committee okay so they were getting very important information government information they accessed these computer that is the least of it there s also some talk that people are looking into what tie they have into terrorism are they impacted by the muslim brotherhood are they a part of the muslim brotherhood one of them ha a criminal backgroundhow is it possible that 3 brother are hired muslim brother just saying to work in congress and deal with our most intelligent and sensitive information number one they were all making 160000 why were they paid so much 22 year old one of the guy the other wa 25 they re making 160000 161000 and 165000 and one of them ha a criminal background i hear what you re saying i mean these intelligence committee handle our terror strategy right they got in on benghazi by the wayyes and they also worked for many democrat in the house they are thinking that they may be also one of the reason debbie wasserman schultz got hacked there s so much more to come on this stuart it s an incredible story i think it s amazingchiefs of staff for dozen of democratic lawmaker who employed the four were informed last week that a criminal probe wa underway into their use of congressional information technology system including the existence of an external server to which house data wa being funneled and into the theft of and overbilling for computer equipmenttheir salary and time were shared among dozen of democratic member including former democratic national committee chairman rep debbie wasserman schultz of floridachiefs of staff for dozen of democratic lawmaker who employed the four were informed last week that a criminal probe wa underway into their use of congressional information technology system including the existence of an external server to which house data wa being funneled and into the theft of and overbilling for computer equipmentdespite the generous salary the four were involved in multiple suspicious mortgage transfer and a debtevading bankruptcy abid had more than 1 million in debt following a failed business called car international that he ran in fall church va from november 2009 to september 2010 business associate said in court document that abid had stolen money and vehicle from themit s unclear how abid found time to run an automotive business while working fulltime for congress he had been on the congressional payroll since 2005 a congressional credit union repossessed two of his personal car before the business foldedabid filed for bankruptcy in 2012 but somehow managed to keep ownership of two house while telling the bankruptcy court and creditor that he had no asset with which to pay them he signed a sworn statement that he and his wife natalia soba were living apart and needed separate residence my spouse and i are legally separated under applicable nonbankruptcy law or my spouse and i are living apart other than for the purpose of evading the requirement of 707b2a of the bankruptcy code abid claimed in bankruptcy document but both house had been in the family for yearsabid s record includes numerous driving and alcoholrelated legal problem including driving with a suspended or revoked license court record show he wa found guilty of drunk driving a month before he started at the house and wa arrested for public intoxication a month after his first daya spokesman for rep joaquin castro of texas told thedcnf friday that jamal s employment with our office ha been terminated hilarie chamber a spokeswoman for rep sandy levin who employed abid told thedcnf that after being notified by the house administration committee this individual wa removed from our payroll we are confident that everything in our office is secure not every democrat is willing to terminate their connection with these foursome democrat have not terminated their connection with the four including wasserman schultz who employ imran and who resigned from her dnc post last year after a computer hack revealed embarassing email derrick robinson spokesman for california rep karen bass refused to comment on alvi s employment statusfor entire story daily caller\",\n          \"it wa revealed monday that president obamas national security adviser susan rice allegedly ordered the unmasking of the identity of trump campaign aide who were reportedly being surveilled during the 2016 election the recent report further prove at least in part president donald trump claim that senior obama official had collected intelligence on trump aid and disseminated it throughout the government rice involvement a it relates to her reported role in the unmasking of trump aid and circulating sensitive information place the longtime obama operative at the center of another major political scandal below are five fact from susan rice scandal every american should know 1 susan rice allegedly ordered surveillance of donald trump 2016 election campaign aide a part of a political intelligence operation rice allegedly maintained spreadsheet of trump aide telephone call one year before the 2016 presidential election according to the daily caller the daily caller report what wa produced by the intelligence community at the request of m rice were detailed spreadsheet of intercepted phone call with unmasked trump associate in perfectly legal conversation with individual digenova told the daily caller news foundation investigative group monday the overheard conversation involved no illegal activity by anybody of the trump associate or anyone they were speaking with digenova said in short the only apparent illegal activity wa the unmasking of the people in the call 2 rice claimed that climate change wa responsible for the deadly civil war in syria in the year prior to civil war breaking out in syria that country also experienced it worst drought on record rice said in october 2015 during a speech at stanford university farming family moved en masse into urban center increasing political unrest and further priming the country for conflict hundred of thousand of syrian have been killed in the conflict since president barack obama drew his infamous red line in 2012 promising to retaliate against syrian president bashar s regime if it used chemical weapon on it own people 3 rice once declared that there is no military solution to the raging conflict in yemen a in syria there is no military solution to the crisis in yemen rice said in april 2015 during a speech at the arab american institute kahlil gibran gala seven month before rice speech president obama had called his administration drone military operation in yemen a success story president trump however ordered more airstrikes against in yemen in february than any year in obamas presidency 4 susan rice said accused deserter sgt bowe bergdahl served with honor and distinction in march 2015 sgt bowe bergdahl wa charged with treason for allegedly deserting his fellow soldier and abandoning his afghanistan outpost in 2009 in a june 2014 broadcast of abc this week susan rice defended bergdahl saying he served the united state with honor and distinction and well have the opportunity eventually to learn what ha transpired in the past year a breitbart news reported six soldier lost their life searching for first class bowe bergdahl after he abandoned his outpost 5 susan rice wa the driving force behind a misinformation campaign about the sept 11 2012 benghazi terror attack ambassador rice acting a the obama white house spokeswoman appeared on five sunday morning talk show and repeatedly claimed that the benghazi attack had been caused by an video rice appeared on abc cbs nbc fox news and cnn and regurgitated talking point purporting that the protest that had erupted spontaneously near two u s government facility in benghazi libya and were a result of a hateful video that wa offensive to islam but government document released following a judicial watch lawsuit reveal that government official monitoring the attack in did not cite an video a an explanation for the paramilitary attack on the u s diplomatic mission in benghazi in may 2015 interview former obama cia director mike morell said rice benghazi talking point blaming an youtube video crossed the line between national security and politics i think the line in there that say one of our objective here right on the sunday show is to blame the video rather than a failure of policy morell said on fox news special report and a you know i say in the book that i think that that is crossing the line between national security and politics follow jerome hudson on twitter jeromeehudson\"\n        ],\n        \"semantic_type\": \"\",\n        \"description\": \"\"\n      }\n    }\n  ]\n}"
            }
          },
          "metadata": {},
          "execution_count": 2
        }
      ],
      "source": [
        "df.head()"
      ]
    },
    {
      "cell_type": "code",
      "execution_count": 3,
      "metadata": {
        "id": "gNlqIM85Zmse"
      },
      "outputs": [],
      "source": [
        "import tensorflow as tf\n",
        "from tensorflow.keras.preprocessing.text import Tokenizer\n",
        "from tensorflow.keras.preprocessing.sequence import pad_sequences"
      ]
    },
    {
      "cell_type": "code",
      "execution_count": 4,
      "metadata": {
        "id": "uWI7Nq5JZmsf"
      },
      "outputs": [],
      "source": [
        "df['text'] = df['text'].astype(str)"
      ]
    },
    {
      "cell_type": "code",
      "execution_count": 5,
      "metadata": {
        "id": "GXw99H1KZmsf"
      },
      "outputs": [],
      "source": [
        "tokenizer = Tokenizer(num_words=10000, oov_token=\"<OOV>\")\n",
        "tokenizer.fit_on_texts(df['text'])\n",
        "vocab_size = len(tokenizer.word_index)"
      ]
    },
    {
      "cell_type": "code",
      "execution_count": 6,
      "metadata": {
        "id": "AwNOB3v5Zmsf"
      },
      "outputs": [],
      "source": [
        "vocab_size = min(10000, len(tokenizer.word_index) + 1)"
      ]
    },
    {
      "cell_type": "code",
      "execution_count": 7,
      "metadata": {
        "id": "gMIZ7U2ZZmsf"
      },
      "outputs": [],
      "source": [
        "sequences = tokenizer.texts_to_sequences(df['text'])\n",
        "sequence_lengths = [len(seq) for seq in sequences]"
      ]
    },
    {
      "cell_type": "code",
      "execution_count": 8,
      "metadata": {
        "id": "1SZ-emoeZmsf"
      },
      "outputs": [],
      "source": [
        "max_length = max(sequence_lengths)"
      ]
    },
    {
      "cell_type": "code",
      "execution_count": 9,
      "metadata": {
        "colab": {
          "base_uri": "https://localhost:8080/"
        },
        "id": "fIohJhVvZmsg",
        "outputId": "e1604f89-6db8-4575-eb58-040365e4cad7"
      },
      "outputs": [
        {
          "output_type": "stream",
          "name": "stdout",
          "text": [
            "(3245, 100)\n"
          ]
        }
      ],
      "source": [
        "padded_text = pad_sequences(sequences,maxlen = 100, padding='post', truncating='post')\n",
        "\n",
        "print(padded_text.shape)"
      ]
    },
    {
      "cell_type": "code",
      "execution_count": 10,
      "metadata": {
        "id": "ggFdBUSrZmsg"
      },
      "outputs": [],
      "source": [
        "from sklearn.model_selection import train_test_split\n",
        "\n",
        "\n",
        "# Replace `labels` with your actual labels for the dataset\n",
        "labels = df['label'].values  # Use the actual column for labels\n",
        "\n",
        "# Split the data\n",
        "X_train, X_test, y_train, y_test = train_test_split(padded_text, labels, test_size=0.2, random_state=42)\n"
      ]
    },
    {
      "cell_type": "code",
      "execution_count": 11,
      "metadata": {
        "colab": {
          "base_uri": "https://localhost:8080/"
        },
        "id": "K-PLB9ntZmsg",
        "outputId": "b6428c2a-4508-43e7-fba2-df192c657586"
      },
      "outputs": [
        {
          "output_type": "stream",
          "name": "stdout",
          "text": [
            "the shape of X_train: (2596, 100)\n",
            "the shape of y_train: (2596,)\n"
          ]
        }
      ],
      "source": [
        "print('the shape of X_train:',X_train.shape)\n",
        "print('the shape of y_train:',y_train.shape)\n"
      ]
    },
    {
      "cell_type": "code",
      "execution_count": 12,
      "metadata": {
        "id": "Uq9eoVlxZmsg"
      },
      "outputs": [],
      "source": [
        "from tensorflow.keras.models import Sequential\n",
        "from tensorflow.keras.layers import Embedding, LSTM, Dense, Dropout, SpatialDropout1D\n",
        "from tensorflow.keras.optimizers import Adam\n",
        "\n",
        "model = Sequential()\n",
        "\n",
        "# Embedding Layer\n",
        "model.add(Embedding(input_dim=10000, output_dim=100, input_length=100))\n",
        "\n",
        "# Spatial Dropout (to prevent overfitting)\n",
        "model.add(SpatialDropout1D(0.2))\n",
        "\n",
        "# LSTM Layer\n",
        "model.add(LSTM(64, dropout=0.2, recurrent_dropout=0.2))\n",
        "\n",
        "# Dense Layer (output layer)\n",
        "model.add(Dense(1, activation='sigmoid'))  # Binary classification (sigmoid activation)\n",
        "\n",
        "# Step 6: Compiling the Model\n",
        "model.compile(loss='binary_crossentropy',\n",
        "              optimizer=Adam(learning_rate=0.001),\n",
        "              metrics=['accuracy'])\n"
      ]
    },
    {
      "cell_type": "code",
      "execution_count": 13,
      "metadata": {
        "colab": {
          "base_uri": "https://localhost:8080/"
        },
        "id": "_aD7HdJHZmsh",
        "outputId": "27339e67-fa55-4327-f7ca-14c36557c8f2"
      },
      "outputs": [
        {
          "output_type": "stream",
          "name": "stdout",
          "text": [
            "Epoch 1/5\n",
            "41/41 - 12s - loss: 0.6741 - accuracy: 0.5320 - val_loss: 0.5806 - val_accuracy: 0.6518 - 12s/epoch - 293ms/step\n",
            "Epoch 2/5\n",
            "41/41 - 9s - loss: 0.5201 - accuracy: 0.8039 - val_loss: 0.4609 - val_accuracy: 0.8290 - 9s/epoch - 210ms/step\n",
            "Epoch 3/5\n",
            "41/41 - 9s - loss: 0.5081 - accuracy: 0.7870 - val_loss: 0.5946 - val_accuracy: 0.6656 - 9s/epoch - 215ms/step\n",
            "Epoch 4/5\n",
            "41/41 - 9s - loss: 0.5666 - accuracy: 0.6995 - val_loss: 0.5964 - val_accuracy: 0.6533 - 9s/epoch - 210ms/step\n",
            "Epoch 5/5\n",
            "41/41 - 9s - loss: 0.5587 - accuracy: 0.7007 - val_loss: 0.5903 - val_accuracy: 0.6610 - 9s/epoch - 212ms/step\n"
          ]
        }
      ],
      "source": [
        "# Step 7: Training the Model\n",
        "history = model.fit(X_train, y_train, epochs=5, batch_size=64, validation_data=(X_test, y_test), verbose=2)\n"
      ]
    },
    {
      "cell_type": "code",
      "execution_count": 15,
      "metadata": {
        "colab": {
          "base_uri": "https://localhost:8080/"
        },
        "id": "F1ChZuFYZmsh",
        "outputId": "49488955-928b-4cb5-cc75-4ede21ebc250"
      },
      "outputs": [
        {
          "output_type": "stream",
          "name": "stdout",
          "text": [
            "21/21 [==============================] - 0s 20ms/step - loss: 0.5903 - accuracy: 0.6610\n",
            "Validation Accuracy: 0.6610\n"
          ]
        }
      ],
      "source": [
        "# Step 8: Evaluating the Model\n",
        "loss, accuracy = model.evaluate(X_test, y_test)\n",
        "print(f'Validation Accuracy: {accuracy:.4f}')"
      ]
    },
    {
      "cell_type": "code",
      "source": [
        "# Save the model if needed\n",
        "model.save('fake_news_classifier_lstm.h5')"
      ],
      "metadata": {
        "colab": {
          "base_uri": "https://localhost:8080/"
        },
        "id": "14iEgAQMg5ou",
        "outputId": "e9239139-7f55-4831-db37-173ef45b5769"
      },
      "execution_count": 16,
      "outputs": [
        {
          "output_type": "stream",
          "name": "stderr",
          "text": [
            "/usr/local/lib/python3.10/dist-packages/keras/src/engine/training.py:3103: UserWarning: You are saving your model as an HDF5 file via `model.save()`. This file format is considered legacy. We recommend using instead the native Keras format, e.g. `model.save('my_model.keras')`.\n",
            "  saving_api.save_model(\n"
          ]
        }
      ]
    }
  ],
  "metadata": {
    "kernelspec": {
      "display_name": "Python 3",
      "name": "python3"
    },
    "language_info": {
      "codemirror_mode": {
        "name": "ipython",
        "version": 3
      },
      "file_extension": ".py",
      "mimetype": "text/x-python",
      "name": "python",
      "nbconvert_exporter": "python",
      "pygments_lexer": "ipython3",
      "version": "3.12.5"
    },
    "colab": {
      "provenance": [],
      "gpuType": "V28",
      "include_colab_link": true
    },
    "accelerator": "TPU"
  },
  "nbformat": 4,
  "nbformat_minor": 0
}