{
 "cells": [
  {
   "cell_type": "code",
   "execution_count": 1,
   "metadata": {},
   "outputs": [],
   "source": [
    "import pandas as pd\n",
    "from src.text_preprocessing import text_preprocessing_spacy, text_processor\n",
    "from src.feature_engineering import feature_engineer, text_feature_engineering\n",
    "from src.data_splitter import train_test_splitter, data_split\n",
    "from src.model_building import Build_LSTM_model, model_builder"
   ]
  },
  {
   "cell_type": "code",
   "execution_count": 2,
   "metadata": {},
   "outputs": [],
   "source": [
    "# Load the data\n",
    "df = pd.read_csv('D:/Project-Fake_news_classifier/processed_data/fake_news_eda.csv')"
   ]
  },
  {
   "cell_type": "code",
   "execution_count": 3,
   "metadata": {},
   "outputs": [],
   "source": [
    "# Initializing the text processor\n",
    "processor = text_processor(text_preprocessing_spacy)\n",
    "\n",
    "# Applying the text processor\n",
    "df['text'] = df['text'].apply(lambda text: processor.apply_processor(text))"
   ]
  },
  {
   "cell_type": "code",
   "execution_count": 4,
   "metadata": {},
   "outputs": [
    {
     "ename": "TypeError",
     "evalue": "'text_feature_engineering' object is not callable",
     "output_type": "error",
     "traceback": [
      "\u001b[1;31m---------------------------------------------------------------------------\u001b[0m",
      "\u001b[1;31mTypeError\u001b[0m                                 Traceback (most recent call last)",
      "Cell \u001b[1;32mIn[4], line 2\u001b[0m\n\u001b[0;32m      1\u001b[0m \u001b[38;5;66;03m# Initializing the feature engineer\u001b[39;00m\n\u001b[1;32m----> 2\u001b[0m engineer \u001b[38;5;241m=\u001b[39m \u001b[43mfeature_engineer\u001b[49m\u001b[43m(\u001b[49m\u001b[43mtext_feature_engineering\u001b[49m\u001b[43m(\u001b[49m\u001b[43mmax_len\u001b[49m\u001b[38;5;241;43m=\u001b[39;49m\u001b[38;5;241;43m1000\u001b[39;49m\u001b[43m,\u001b[49m\u001b[43m \u001b[49m\u001b[43mcolumn\u001b[49m\u001b[38;5;241;43m=\u001b[39;49m\u001b[38;5;124;43m'\u001b[39;49m\u001b[38;5;124;43mtext\u001b[39;49m\u001b[38;5;124;43m'\u001b[39;49m\u001b[43m)\u001b[49m\u001b[43m)\u001b[49m\n\u001b[0;32m      3\u001b[0m engineered_features \u001b[38;5;241m=\u001b[39m engineer\u001b[38;5;241m.\u001b[39mapply_engineering(df)\n",
      "File \u001b[1;32md:\\Project-Fake_news_classifier\\Training_pipeline\\src\\feature_engineering.py:30\u001b[0m, in \u001b[0;36mfeature_engineer.__init__\u001b[1;34m(self, engineer)\u001b[0m\n\u001b[0;32m     28\u001b[0m \u001b[38;5;28;01mdef\u001b[39;00m \u001b[38;5;21m__init__\u001b[39m(\u001b[38;5;28mself\u001b[39m, engineer \u001b[38;5;241m=\u001b[39m feature_engineering):\n\u001b[1;32m---> 30\u001b[0m     \u001b[38;5;28mself\u001b[39m\u001b[38;5;241m.\u001b[39mengineer \u001b[38;5;241m=\u001b[39m \u001b[43mengineer\u001b[49m\u001b[43m(\u001b[49m\u001b[43m)\u001b[49m\n",
      "\u001b[1;31mTypeError\u001b[0m: 'text_feature_engineering' object is not callable"
     ]
    }
   ],
   "source": [
    "# Initializing the feature engineer\n",
    "engineer = feature_engineer(text_feature_engineering(max_len=1000, column='text'))\n",
    "engineered_features = engineer.apply_engineering(df)"
   ]
  },
  {
   "cell_type": "code",
   "execution_count": null,
   "metadata": {},
   "outputs": [],
   "source": [
    "# Initializing the data splitter\n",
    "splitter = data_split(train_test_splitter(test_size=0.2, random_state=42))\n",
    "xtrain, xtest, ytrain, ytest = splitter.split_data(engineered_features, df['label'])\n",
    "\n",
    "print(xtrain.shape, xtest.shape, ytrain.shape, ytest.shape)"
   ]
  },
  {
   "cell_type": "code",
   "execution_count": null,
   "metadata": {},
   "outputs": [],
   "source": [
    "# Initializing the model builder\n",
    "builder = model_builder(Build_LSTM_model)\n",
    "model = builder.apply_model_builder()"
   ]
  },
  {
   "cell_type": "code",
   "execution_count": null,
   "metadata": {},
   "outputs": [],
   "source": [
    "# Training the model\n",
    "model.fit(xtrain, ytrain, epochs=10, batch_size=32, validation_data=(xtest, ytest)) "
   ]
  }
 ],
 "metadata": {
  "kernelspec": {
   "display_name": "venv",
   "language": "python",
   "name": "python3"
  },
  "language_info": {
   "codemirror_mode": {
    "name": "ipython",
    "version": 3
   },
   "file_extension": ".py",
   "mimetype": "text/x-python",
   "name": "python",
   "nbconvert_exporter": "python",
   "pygments_lexer": "ipython3",
   "version": "3.12.5"
  }
 },
 "nbformat": 4,
 "nbformat_minor": 2
}
