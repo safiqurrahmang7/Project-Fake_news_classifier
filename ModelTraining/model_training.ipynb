{
 "cells": [
  {
   "cell_type": "code",
   "execution_count": 1,
   "metadata": {},
   "outputs": [],
   "source": [
    "import pandas as pd\n",
    "from src.feature_engineering import feature_engineer, text_feature_engineering\n",
    "from src.data_splitter import train_test_splitter, data_split\n",
    "from src.model_building import Build_LSTM_model, model_builder"
   ]
  },
  {
   "cell_type": "code",
   "execution_count": 2,
   "metadata": {},
   "outputs": [],
   "source": [
    "# Load the data\n",
    "df = pd.read_csv('D:/Project-Fake_news_classifier/ProcessedData/fake_news_processed.csv')"
   ]
  },
  {
   "cell_type": "code",
   "execution_count": 3,
   "metadata": {},
   "outputs": [],
   "source": [
    "# Initializing the feature engineer\n",
    "engineer = feature_engineer(text_feature_engineering())\n",
    "engineered_features = engineer.apply_engineering(df)"
   ]
  },
  {
   "cell_type": "code",
   "execution_count": 4,
   "metadata": {},
   "outputs": [
    {
     "name": "stdout",
     "output_type": "stream",
     "text": [
      "(50174, 1000) (12544, 1000) (50174,) (12544,)\n"
     ]
    }
   ],
   "source": [
    "# Initializing the data splitter\n",
    "splitter = data_split(train_test_splitter(test_size=0.2, random_state=42))\n",
    "xtrain, xtest, ytrain, ytest = splitter.split_data(engineered_features, df['label'])\n",
    "\n",
    "print(xtrain.shape, xtest.shape, ytrain.shape, ytest.shape)"
   ]
  },
  {
   "cell_type": "code",
   "execution_count": 5,
   "metadata": {},
   "outputs": [
    {
     "name": "stderr",
     "output_type": "stream",
     "text": [
      "d:\\Project-Fake_news_classifier\\venv\\Lib\\site-packages\\keras\\src\\layers\\core\\embedding.py:90: UserWarning: Argument `input_length` is deprecated. Just remove it.\n",
      "  warnings.warn(\n"
     ]
    }
   ],
   "source": [
    "# Initializing the model builder\n",
    "builder = model_builder(Build_LSTM_model())\n",
    "model = builder.apply_model_builder()"
   ]
  },
  {
   "cell_type": "code",
   "execution_count": null,
   "metadata": {},
   "outputs": [
    {
     "name": "stdout",
     "output_type": "stream",
     "text": [
      "Epoch 1/10\n",
      "\u001b[1m  16/1568\u001b[0m \u001b[37m━━━━━━━━━━━━━━━━━━━━\u001b[0m \u001b[1m59:45\u001b[0m 2s/step - accuracy: 0.4768 - loss: 0.7024"
     ]
    }
   ],
   "source": [
    "# Training the model\n",
    "model.fit(xtrain, ytrain, epochs=10, batch_size=32, validation_data=(xtest, ytest)) "
   ]
  }
 ],
 "metadata": {
  "kernelspec": {
   "display_name": "venv",
   "language": "python",
   "name": "python3"
  },
  "language_info": {
   "codemirror_mode": {
    "name": "ipython",
    "version": 3
   },
   "file_extension": ".py",
   "mimetype": "text/x-python",
   "name": "python",
   "nbconvert_exporter": "python",
   "pygments_lexer": "ipython3",
   "version": "3.12.5"
  }
 },
 "nbformat": 4,
 "nbformat_minor": 2
}
