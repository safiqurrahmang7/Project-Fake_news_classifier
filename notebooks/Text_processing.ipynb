{
 "cells": [
  {
   "cell_type": "code",
   "execution_count": 65,
   "metadata": {},
   "outputs": [],
   "source": [
    "import pandas as pd\n",
    "import nltk\n",
    "from nltk.corpus import stopwords\n",
    "from nltk.tokenize import word_tokenize\n",
    "from nltk.stem import WordNetLemmatizer\n",
    "import re"
   ]
  },
  {
   "cell_type": "code",
   "execution_count": 66,
   "metadata": {},
   "outputs": [
    {
     "name": "stderr",
     "output_type": "stream",
     "text": [
      "[nltk_data] Downloading package punkt to C:\\Users\\DELL/nltk_data...\n",
      "[nltk_data]   Package punkt is already up-to-date!\n",
      "[nltk_data] Downloading package stopwords to\n",
      "[nltk_data]     C:\\Users\\DELL/nltk_data...\n",
      "[nltk_data]   Package stopwords is already up-to-date!\n",
      "[nltk_data] Downloading package wordnet to C:\\Users\\DELL/nltk_data...\n",
      "[nltk_data]   Package wordnet is already up-to-date!\n"
     ]
    },
    {
     "data": {
      "text/plain": [
       "True"
      ]
     },
     "execution_count": 66,
     "metadata": {},
     "output_type": "execute_result"
    }
   ],
   "source": [
    "# Download necessary NLTK data (if not already downloaded)\n",
    "nltk.download('punkt')\n",
    "nltk.download('stopwords')\n",
    "nltk.download('wordnet')"
   ]
  },
  {
   "cell_type": "code",
   "execution_count": 67,
   "metadata": {},
   "outputs": [],
   "source": [
    "# Load your dataset\n",
    "\n",
    "df = pd.read_csv('D:/Project-Fake_news_classifier/data/processed/fake_news_eda.csv')\n",
    "\n",
    "df_nltk = df.copy()"
   ]
  },
  {
   "cell_type": "code",
   "execution_count": 68,
   "metadata": {},
   "outputs": [
    {
     "data": {
      "text/html": [
       "<div>\n",
       "<style scoped>\n",
       "    .dataframe tbody tr th:only-of-type {\n",
       "        vertical-align: middle;\n",
       "    }\n",
       "\n",
       "    .dataframe tbody tr th {\n",
       "        vertical-align: top;\n",
       "    }\n",
       "\n",
       "    .dataframe thead th {\n",
       "        text-align: right;\n",
       "    }\n",
       "</style>\n",
       "<table border=\"1\" class=\"dataframe\">\n",
       "  <thead>\n",
       "    <tr style=\"text-align: right;\">\n",
       "      <th></th>\n",
       "      <th>text</th>\n",
       "      <th>label</th>\n",
       "    </tr>\n",
       "  </thead>\n",
       "  <tbody>\n",
       "    <tr>\n",
       "      <th>0</th>\n",
       "      <td>No comment is expected from Barack Obama Membe...</td>\n",
       "      <td>1</td>\n",
       "    </tr>\n",
       "    <tr>\n",
       "      <th>1</th>\n",
       "      <td>Did they post their votes for Hillary already?</td>\n",
       "      <td>1</td>\n",
       "    </tr>\n",
       "    <tr>\n",
       "      <th>2</th>\n",
       "      <td>Now, most of the demonstrators gathered last ...</td>\n",
       "      <td>1</td>\n",
       "    </tr>\n",
       "    <tr>\n",
       "      <th>3</th>\n",
       "      <td>A dozen politically active pastors came here f...</td>\n",
       "      <td>0</td>\n",
       "    </tr>\n",
       "    <tr>\n",
       "      <th>4</th>\n",
       "      <td>The RS-28 Sarmat missile, dubbed Satan 2, will...</td>\n",
       "      <td>1</td>\n",
       "    </tr>\n",
       "  </tbody>\n",
       "</table>\n",
       "</div>"
      ],
      "text/plain": [
       "                                                text  label\n",
       "0  No comment is expected from Barack Obama Membe...      1\n",
       "1     Did they post their votes for Hillary already?      1\n",
       "2   Now, most of the demonstrators gathered last ...      1\n",
       "3  A dozen politically active pastors came here f...      0\n",
       "4  The RS-28 Sarmat missile, dubbed Satan 2, will...      1"
      ]
     },
     "execution_count": 68,
     "metadata": {},
     "output_type": "execute_result"
    }
   ],
   "source": [
    "df.head()"
   ]
  },
  {
   "cell_type": "code",
   "execution_count": 69,
   "metadata": {},
   "outputs": [],
   "source": [
    "# 1. Lowercasing all text\n",
    "df_nltk['text'] = df_nltk['text'].apply(lambda x: x.lower())"
   ]
  },
  {
   "cell_type": "code",
   "execution_count": 70,
   "metadata": {},
   "outputs": [],
   "source": [
    "# 2. Removing special characters, and punctuation\n",
    "df_nltk['text'] = df_nltk['text'].apply(lambda x: re.sub(r'[^a-zA-Z0-9\\s]', '', x))"
   ]
  },
  {
   "cell_type": "code",
   "execution_count": 71,
   "metadata": {},
   "outputs": [],
   "source": [
    "# 3. Tokenization: Convert the text into individual words\n",
    "df_nltk['processed_text'] = df_nltk['text'].apply(word_tokenize)"
   ]
  },
  {
   "cell_type": "code",
   "execution_count": 72,
   "metadata": {},
   "outputs": [],
   "source": [
    "# 5. Lemmatization: Reduce words to their base or root form\n",
    "lemmatizer = WordNetLemmatizer()\n",
    "df_nltk['processed_text'] = df_nltk['processed_text'].apply(lambda x: [lemmatizer.lemmatize(word) for word in x])"
   ]
  },
  {
   "cell_type": "code",
   "execution_count": 73,
   "metadata": {},
   "outputs": [],
   "source": [
    "# 6. Reconstructing the text from processed tokens\n",
    "df_nltk['processed_text'] = df_nltk['processed_text'].apply(lambda x: ' '.join(x))"
   ]
  },
  {
   "cell_type": "code",
   "execution_count": 74,
   "metadata": {},
   "outputs": [
    {
     "data": {
      "text/html": [
       "<div>\n",
       "<style scoped>\n",
       "    .dataframe tbody tr th:only-of-type {\n",
       "        vertical-align: middle;\n",
       "    }\n",
       "\n",
       "    .dataframe tbody tr th {\n",
       "        vertical-align: top;\n",
       "    }\n",
       "\n",
       "    .dataframe thead th {\n",
       "        text-align: right;\n",
       "    }\n",
       "</style>\n",
       "<table border=\"1\" class=\"dataframe\">\n",
       "  <thead>\n",
       "    <tr style=\"text-align: right;\">\n",
       "      <th></th>\n",
       "      <th>text</th>\n",
       "      <th>processed_text</th>\n",
       "    </tr>\n",
       "  </thead>\n",
       "  <tbody>\n",
       "    <tr>\n",
       "      <th>0</th>\n",
       "      <td>no comment is expected from barack obama membe...</td>\n",
       "      <td>no comment is expected from barack obama membe...</td>\n",
       "    </tr>\n",
       "    <tr>\n",
       "      <th>1</th>\n",
       "      <td>did they post their votes for hillary already</td>\n",
       "      <td>did they post their vote for hillary already</td>\n",
       "    </tr>\n",
       "    <tr>\n",
       "      <th>2</th>\n",
       "      <td>now most of the demonstrators gathered last n...</td>\n",
       "      <td>now most of the demonstrator gathered last nig...</td>\n",
       "    </tr>\n",
       "    <tr>\n",
       "      <th>3</th>\n",
       "      <td>a dozen politically active pastors came here f...</td>\n",
       "      <td>a dozen politically active pastor came here fo...</td>\n",
       "    </tr>\n",
       "    <tr>\n",
       "      <th>4</th>\n",
       "      <td>the rs28 sarmat missile dubbed satan 2 will re...</td>\n",
       "      <td>the rs28 sarmat missile dubbed satan 2 will re...</td>\n",
       "    </tr>\n",
       "    <tr>\n",
       "      <th>...</th>\n",
       "      <td>...</td>\n",
       "      <td>...</td>\n",
       "    </tr>\n",
       "    <tr>\n",
       "      <th>62713</th>\n",
       "      <td>an email released by wikileaks on sunday appea...</td>\n",
       "      <td>an email released by wikileaks on sunday appea...</td>\n",
       "    </tr>\n",
       "    <tr>\n",
       "      <th>62714</th>\n",
       "      <td>washington reuters  hackers believed to be wor...</td>\n",
       "      <td>washington reuters hacker believed to be worki...</td>\n",
       "    </tr>\n",
       "    <tr>\n",
       "      <th>62715</th>\n",
       "      <td>you know because in fantasyland republicans ne...</td>\n",
       "      <td>you know because in fantasyland republican nev...</td>\n",
       "    </tr>\n",
       "    <tr>\n",
       "      <th>62716</th>\n",
       "      <td>migrants refuse to leave train at refugee camp...</td>\n",
       "      <td>migrant refuse to leave train at refugee camp ...</td>\n",
       "    </tr>\n",
       "    <tr>\n",
       "      <th>62717</th>\n",
       "      <td>mexico city reuters  donald trumps combative s...</td>\n",
       "      <td>mexico city reuters donald trump combative sty...</td>\n",
       "    </tr>\n",
       "  </tbody>\n",
       "</table>\n",
       "<p>62718 rows × 2 columns</p>\n",
       "</div>"
      ],
      "text/plain": [
       "                                                    text  \\\n",
       "0      no comment is expected from barack obama membe...   \n",
       "1          did they post their votes for hillary already   \n",
       "2       now most of the demonstrators gathered last n...   \n",
       "3      a dozen politically active pastors came here f...   \n",
       "4      the rs28 sarmat missile dubbed satan 2 will re...   \n",
       "...                                                  ...   \n",
       "62713  an email released by wikileaks on sunday appea...   \n",
       "62714  washington reuters  hackers believed to be wor...   \n",
       "62715  you know because in fantasyland republicans ne...   \n",
       "62716  migrants refuse to leave train at refugee camp...   \n",
       "62717  mexico city reuters  donald trumps combative s...   \n",
       "\n",
       "                                          processed_text  \n",
       "0      no comment is expected from barack obama membe...  \n",
       "1           did they post their vote for hillary already  \n",
       "2      now most of the demonstrator gathered last nig...  \n",
       "3      a dozen politically active pastor came here fo...  \n",
       "4      the rs28 sarmat missile dubbed satan 2 will re...  \n",
       "...                                                  ...  \n",
       "62713  an email released by wikileaks on sunday appea...  \n",
       "62714  washington reuters hacker believed to be worki...  \n",
       "62715  you know because in fantasyland republican nev...  \n",
       "62716  migrant refuse to leave train at refugee camp ...  \n",
       "62717  mexico city reuters donald trump combative sty...  \n",
       "\n",
       "[62718 rows x 2 columns]"
      ]
     },
     "execution_count": 74,
     "metadata": {},
     "output_type": "execute_result"
    }
   ],
   "source": [
    "# Display the processed DataFrame\n",
    "df_nltk[['text', 'processed_text']]"
   ]
  },
  {
   "cell_type": "code",
   "execution_count": 75,
   "metadata": {},
   "outputs": [
    {
     "data": {
      "text/html": [
       "<div>\n",
       "<style scoped>\n",
       "    .dataframe tbody tr th:only-of-type {\n",
       "        vertical-align: middle;\n",
       "    }\n",
       "\n",
       "    .dataframe tbody tr th {\n",
       "        vertical-align: top;\n",
       "    }\n",
       "\n",
       "    .dataframe thead th {\n",
       "        text-align: right;\n",
       "    }\n",
       "</style>\n",
       "<table border=\"1\" class=\"dataframe\">\n",
       "  <thead>\n",
       "    <tr style=\"text-align: right;\">\n",
       "      <th></th>\n",
       "      <th>text</th>\n",
       "      <th>label</th>\n",
       "      <th>processed_text</th>\n",
       "    </tr>\n",
       "  </thead>\n",
       "  <tbody>\n",
       "    <tr>\n",
       "      <th>0</th>\n",
       "      <td>no comment is expected from barack obama membe...</td>\n",
       "      <td>1</td>\n",
       "      <td>no comment is expected from barack obama membe...</td>\n",
       "    </tr>\n",
       "    <tr>\n",
       "      <th>1</th>\n",
       "      <td>did they post their votes for hillary already</td>\n",
       "      <td>1</td>\n",
       "      <td>did they post their vote for hillary already</td>\n",
       "    </tr>\n",
       "    <tr>\n",
       "      <th>2</th>\n",
       "      <td>now most of the demonstrators gathered last n...</td>\n",
       "      <td>1</td>\n",
       "      <td>now most of the demonstrator gathered last nig...</td>\n",
       "    </tr>\n",
       "    <tr>\n",
       "      <th>3</th>\n",
       "      <td>a dozen politically active pastors came here f...</td>\n",
       "      <td>0</td>\n",
       "      <td>a dozen politically active pastor came here fo...</td>\n",
       "    </tr>\n",
       "    <tr>\n",
       "      <th>4</th>\n",
       "      <td>the rs28 sarmat missile dubbed satan 2 will re...</td>\n",
       "      <td>1</td>\n",
       "      <td>the rs28 sarmat missile dubbed satan 2 will re...</td>\n",
       "    </tr>\n",
       "  </tbody>\n",
       "</table>\n",
       "</div>"
      ],
      "text/plain": [
       "                                                text  label  \\\n",
       "0  no comment is expected from barack obama membe...      1   \n",
       "1      did they post their votes for hillary already      1   \n",
       "2   now most of the demonstrators gathered last n...      1   \n",
       "3  a dozen politically active pastors came here f...      0   \n",
       "4  the rs28 sarmat missile dubbed satan 2 will re...      1   \n",
       "\n",
       "                                      processed_text  \n",
       "0  no comment is expected from barack obama membe...  \n",
       "1       did they post their vote for hillary already  \n",
       "2  now most of the demonstrator gathered last nig...  \n",
       "3  a dozen politically active pastor came here fo...  \n",
       "4  the rs28 sarmat missile dubbed satan 2 will re...  "
      ]
     },
     "execution_count": 75,
     "metadata": {},
     "output_type": "execute_result"
    }
   ],
   "source": [
    "df_nltk.head()"
   ]
  },
  {
   "cell_type": "code",
   "execution_count": 76,
   "metadata": {},
   "outputs": [],
   "source": [
    "df_nltk.to_csv('D:/Project-Fake_news_classifier/data/processed/fake_news_processed.csv', index=False)"
   ]
  }
 ],
 "metadata": {
  "kernelspec": {
   "display_name": "venv",
   "language": "python",
   "name": "python3"
  },
  "language_info": {
   "codemirror_mode": {
    "name": "ipython",
    "version": 3
   },
   "file_extension": ".py",
   "mimetype": "text/x-python",
   "name": "python",
   "nbconvert_exporter": "python",
   "pygments_lexer": "ipython3",
   "version": "3.12.5"
  }
 },
 "nbformat": 4,
 "nbformat_minor": 2
}
