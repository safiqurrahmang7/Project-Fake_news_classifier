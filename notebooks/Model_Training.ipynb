{
  "cells": [
    {
      "cell_type": "code",
      "execution_count": 64,
      "metadata": {
        "id": "AifRs-nMZmsd"
      },
      "outputs": [],
      "source": [
        "#Loading the dataset\n",
        "import pandas as pd\n",
        "df = pd.read_csv('/content/fake_news_cleaned.csv')"
      ]
    },
    {
      "cell_type": "code",
      "execution_count": 65,
      "metadata": {
        "colab": {
          "base_uri": "https://localhost:8080/",
          "height": 293
        },
        "id": "E3C_Ro8WZmse",
        "outputId": "76fbb66e-feaf-4b17-a825-e9721f061dd6"
      },
      "outputs": [
        {
          "output_type": "execute_result",
          "data": {
            "text/plain": [
              "                                                text  label  \\\n",
              "0  No comment is expected from Barack Obama Membe...      1   \n",
              "1     Did they post their votes for Hillary already?      1   \n",
              "2   Now, most of the demonstrators gathered last ...      1   \n",
              "3  A dozen politically active pastors came here f...      0   \n",
              "4  The RS-28 Sarmat missile, dubbed Satan 2, will...      1   \n",
              "\n",
              "                                      processed_text  \\\n",
              "0  no comment is expected from barack obama membe...   \n",
              "1     did they post their votes for hillary already?   \n",
              "2   now, most of the demonstrators gathered last ...   \n",
              "3  a dozen politically active pastors came here f...   \n",
              "4  the rs-28 sarmat missile, dubbed satan 2, will...   \n",
              "\n",
              "                                        cleaned_text  \n",
              "0  comment expected barack obama members fyf911 <...  \n",
              "1                                 post votes hillary  \n",
              "2    demonstrators gathered <TIME> exercising con...  \n",
              "3  <CARDINAL> politically active pastors came pri...  \n",
              "4  <ORG> sarmat missile dubbed satan <CARDINAL> r...  "
            ],
            "text/html": [
              "\n",
              "  <div id=\"df-c9401525-8d08-4c2d-ad48-e1ab1b7ace95\" class=\"colab-df-container\">\n",
              "    <div>\n",
              "<style scoped>\n",
              "    .dataframe tbody tr th:only-of-type {\n",
              "        vertical-align: middle;\n",
              "    }\n",
              "\n",
              "    .dataframe tbody tr th {\n",
              "        vertical-align: top;\n",
              "    }\n",
              "\n",
              "    .dataframe thead th {\n",
              "        text-align: right;\n",
              "    }\n",
              "</style>\n",
              "<table border=\"1\" class=\"dataframe\">\n",
              "  <thead>\n",
              "    <tr style=\"text-align: right;\">\n",
              "      <th></th>\n",
              "      <th>text</th>\n",
              "      <th>label</th>\n",
              "      <th>processed_text</th>\n",
              "      <th>cleaned_text</th>\n",
              "    </tr>\n",
              "  </thead>\n",
              "  <tbody>\n",
              "    <tr>\n",
              "      <th>0</th>\n",
              "      <td>No comment is expected from Barack Obama Membe...</td>\n",
              "      <td>1</td>\n",
              "      <td>no comment is expected from barack obama membe...</td>\n",
              "      <td>comment expected barack obama members fyf911 &lt;...</td>\n",
              "    </tr>\n",
              "    <tr>\n",
              "      <th>1</th>\n",
              "      <td>Did they post their votes for Hillary already?</td>\n",
              "      <td>1</td>\n",
              "      <td>did they post their votes for hillary already?</td>\n",
              "      <td>post votes hillary</td>\n",
              "    </tr>\n",
              "    <tr>\n",
              "      <th>2</th>\n",
              "      <td>Now, most of the demonstrators gathered last ...</td>\n",
              "      <td>1</td>\n",
              "      <td>now, most of the demonstrators gathered last ...</td>\n",
              "      <td>demonstrators gathered &lt;TIME&gt; exercising con...</td>\n",
              "    </tr>\n",
              "    <tr>\n",
              "      <th>3</th>\n",
              "      <td>A dozen politically active pastors came here f...</td>\n",
              "      <td>0</td>\n",
              "      <td>a dozen politically active pastors came here f...</td>\n",
              "      <td>&lt;CARDINAL&gt; politically active pastors came pri...</td>\n",
              "    </tr>\n",
              "    <tr>\n",
              "      <th>4</th>\n",
              "      <td>The RS-28 Sarmat missile, dubbed Satan 2, will...</td>\n",
              "      <td>1</td>\n",
              "      <td>the rs-28 sarmat missile, dubbed satan 2, will...</td>\n",
              "      <td>&lt;ORG&gt; sarmat missile dubbed satan &lt;CARDINAL&gt; r...</td>\n",
              "    </tr>\n",
              "  </tbody>\n",
              "</table>\n",
              "</div>\n",
              "    <div class=\"colab-df-buttons\">\n",
              "\n",
              "  <div class=\"colab-df-container\">\n",
              "    <button class=\"colab-df-convert\" onclick=\"convertToInteractive('df-c9401525-8d08-4c2d-ad48-e1ab1b7ace95')\"\n",
              "            title=\"Convert this dataframe to an interactive table.\"\n",
              "            style=\"display:none;\">\n",
              "\n",
              "  <svg xmlns=\"http://www.w3.org/2000/svg\" height=\"24px\" viewBox=\"0 -960 960 960\">\n",
              "    <path d=\"M120-120v-720h720v720H120Zm60-500h600v-160H180v160Zm220 220h160v-160H400v160Zm0 220h160v-160H400v160ZM180-400h160v-160H180v160Zm440 0h160v-160H620v160ZM180-180h160v-160H180v160Zm440 0h160v-160H620v160Z\"/>\n",
              "  </svg>\n",
              "    </button>\n",
              "\n",
              "  <style>\n",
              "    .colab-df-container {\n",
              "      display:flex;\n",
              "      gap: 12px;\n",
              "    }\n",
              "\n",
              "    .colab-df-convert {\n",
              "      background-color: #E8F0FE;\n",
              "      border: none;\n",
              "      border-radius: 50%;\n",
              "      cursor: pointer;\n",
              "      display: none;\n",
              "      fill: #1967D2;\n",
              "      height: 32px;\n",
              "      padding: 0 0 0 0;\n",
              "      width: 32px;\n",
              "    }\n",
              "\n",
              "    .colab-df-convert:hover {\n",
              "      background-color: #E2EBFA;\n",
              "      box-shadow: 0px 1px 2px rgba(60, 64, 67, 0.3), 0px 1px 3px 1px rgba(60, 64, 67, 0.15);\n",
              "      fill: #174EA6;\n",
              "    }\n",
              "\n",
              "    .colab-df-buttons div {\n",
              "      margin-bottom: 4px;\n",
              "    }\n",
              "\n",
              "    [theme=dark] .colab-df-convert {\n",
              "      background-color: #3B4455;\n",
              "      fill: #D2E3FC;\n",
              "    }\n",
              "\n",
              "    [theme=dark] .colab-df-convert:hover {\n",
              "      background-color: #434B5C;\n",
              "      box-shadow: 0px 1px 3px 1px rgba(0, 0, 0, 0.15);\n",
              "      filter: drop-shadow(0px 1px 2px rgba(0, 0, 0, 0.3));\n",
              "      fill: #FFFFFF;\n",
              "    }\n",
              "  </style>\n",
              "\n",
              "    <script>\n",
              "      const buttonEl =\n",
              "        document.querySelector('#df-c9401525-8d08-4c2d-ad48-e1ab1b7ace95 button.colab-df-convert');\n",
              "      buttonEl.style.display =\n",
              "        google.colab.kernel.accessAllowed ? 'block' : 'none';\n",
              "\n",
              "      async function convertToInteractive(key) {\n",
              "        const element = document.querySelector('#df-c9401525-8d08-4c2d-ad48-e1ab1b7ace95');\n",
              "        const dataTable =\n",
              "          await google.colab.kernel.invokeFunction('convertToInteractive',\n",
              "                                                    [key], {});\n",
              "        if (!dataTable) return;\n",
              "\n",
              "        const docLinkHtml = 'Like what you see? Visit the ' +\n",
              "          '<a target=\"_blank\" href=https://colab.research.google.com/notebooks/data_table.ipynb>data table notebook</a>'\n",
              "          + ' to learn more about interactive tables.';\n",
              "        element.innerHTML = '';\n",
              "        dataTable['output_type'] = 'display_data';\n",
              "        await google.colab.output.renderOutput(dataTable, element);\n",
              "        const docLink = document.createElement('div');\n",
              "        docLink.innerHTML = docLinkHtml;\n",
              "        element.appendChild(docLink);\n",
              "      }\n",
              "    </script>\n",
              "  </div>\n",
              "\n",
              "\n",
              "<div id=\"df-602c741d-2028-482e-81ab-c92f383c76c6\">\n",
              "  <button class=\"colab-df-quickchart\" onclick=\"quickchart('df-602c741d-2028-482e-81ab-c92f383c76c6')\"\n",
              "            title=\"Suggest charts\"\n",
              "            style=\"display:none;\">\n",
              "\n",
              "<svg xmlns=\"http://www.w3.org/2000/svg\" height=\"24px\"viewBox=\"0 0 24 24\"\n",
              "     width=\"24px\">\n",
              "    <g>\n",
              "        <path d=\"M19 3H5c-1.1 0-2 .9-2 2v14c0 1.1.9 2 2 2h14c1.1 0 2-.9 2-2V5c0-1.1-.9-2-2-2zM9 17H7v-7h2v7zm4 0h-2V7h2v10zm4 0h-2v-4h2v4z\"/>\n",
              "    </g>\n",
              "</svg>\n",
              "  </button>\n",
              "\n",
              "<style>\n",
              "  .colab-df-quickchart {\n",
              "      --bg-color: #E8F0FE;\n",
              "      --fill-color: #1967D2;\n",
              "      --hover-bg-color: #E2EBFA;\n",
              "      --hover-fill-color: #174EA6;\n",
              "      --disabled-fill-color: #AAA;\n",
              "      --disabled-bg-color: #DDD;\n",
              "  }\n",
              "\n",
              "  [theme=dark] .colab-df-quickchart {\n",
              "      --bg-color: #3B4455;\n",
              "      --fill-color: #D2E3FC;\n",
              "      --hover-bg-color: #434B5C;\n",
              "      --hover-fill-color: #FFFFFF;\n",
              "      --disabled-bg-color: #3B4455;\n",
              "      --disabled-fill-color: #666;\n",
              "  }\n",
              "\n",
              "  .colab-df-quickchart {\n",
              "    background-color: var(--bg-color);\n",
              "    border: none;\n",
              "    border-radius: 50%;\n",
              "    cursor: pointer;\n",
              "    display: none;\n",
              "    fill: var(--fill-color);\n",
              "    height: 32px;\n",
              "    padding: 0;\n",
              "    width: 32px;\n",
              "  }\n",
              "\n",
              "  .colab-df-quickchart:hover {\n",
              "    background-color: var(--hover-bg-color);\n",
              "    box-shadow: 0 1px 2px rgba(60, 64, 67, 0.3), 0 1px 3px 1px rgba(60, 64, 67, 0.15);\n",
              "    fill: var(--button-hover-fill-color);\n",
              "  }\n",
              "\n",
              "  .colab-df-quickchart-complete:disabled,\n",
              "  .colab-df-quickchart-complete:disabled:hover {\n",
              "    background-color: var(--disabled-bg-color);\n",
              "    fill: var(--disabled-fill-color);\n",
              "    box-shadow: none;\n",
              "  }\n",
              "\n",
              "  .colab-df-spinner {\n",
              "    border: 2px solid var(--fill-color);\n",
              "    border-color: transparent;\n",
              "    border-bottom-color: var(--fill-color);\n",
              "    animation:\n",
              "      spin 1s steps(1) infinite;\n",
              "  }\n",
              "\n",
              "  @keyframes spin {\n",
              "    0% {\n",
              "      border-color: transparent;\n",
              "      border-bottom-color: var(--fill-color);\n",
              "      border-left-color: var(--fill-color);\n",
              "    }\n",
              "    20% {\n",
              "      border-color: transparent;\n",
              "      border-left-color: var(--fill-color);\n",
              "      border-top-color: var(--fill-color);\n",
              "    }\n",
              "    30% {\n",
              "      border-color: transparent;\n",
              "      border-left-color: var(--fill-color);\n",
              "      border-top-color: var(--fill-color);\n",
              "      border-right-color: var(--fill-color);\n",
              "    }\n",
              "    40% {\n",
              "      border-color: transparent;\n",
              "      border-right-color: var(--fill-color);\n",
              "      border-top-color: var(--fill-color);\n",
              "    }\n",
              "    60% {\n",
              "      border-color: transparent;\n",
              "      border-right-color: var(--fill-color);\n",
              "    }\n",
              "    80% {\n",
              "      border-color: transparent;\n",
              "      border-right-color: var(--fill-color);\n",
              "      border-bottom-color: var(--fill-color);\n",
              "    }\n",
              "    90% {\n",
              "      border-color: transparent;\n",
              "      border-bottom-color: var(--fill-color);\n",
              "    }\n",
              "  }\n",
              "</style>\n",
              "\n",
              "  <script>\n",
              "    async function quickchart(key) {\n",
              "      const quickchartButtonEl =\n",
              "        document.querySelector('#' + key + ' button');\n",
              "      quickchartButtonEl.disabled = true;  // To prevent multiple clicks.\n",
              "      quickchartButtonEl.classList.add('colab-df-spinner');\n",
              "      try {\n",
              "        const charts = await google.colab.kernel.invokeFunction(\n",
              "            'suggestCharts', [key], {});\n",
              "      } catch (error) {\n",
              "        console.error('Error during call to suggestCharts:', error);\n",
              "      }\n",
              "      quickchartButtonEl.classList.remove('colab-df-spinner');\n",
              "      quickchartButtonEl.classList.add('colab-df-quickchart-complete');\n",
              "    }\n",
              "    (() => {\n",
              "      let quickchartButtonEl =\n",
              "        document.querySelector('#df-602c741d-2028-482e-81ab-c92f383c76c6 button');\n",
              "      quickchartButtonEl.style.display =\n",
              "        google.colab.kernel.accessAllowed ? 'block' : 'none';\n",
              "    })();\n",
              "  </script>\n",
              "</div>\n",
              "\n",
              "    </div>\n",
              "  </div>\n"
            ],
            "application/vnd.google.colaboratory.intrinsic+json": {
              "type": "dataframe",
              "variable_name": "df",
              "summary": "{\n  \"name\": \"df\",\n  \"rows\": 62718,\n  \"fields\": [\n    {\n      \"column\": \"text\",\n      \"properties\": {\n        \"dtype\": \"string\",\n        \"num_unique_values\": 62718,\n        \"samples\": [\n          \"WASHINGTON (Reuters) - Michael Cohen, one of President Donald Trump\\u2019s closest business advisers, said on Sunday he would testify on Tuesday to the U.S. Senate Intelligence Committee, as the panel investigates alleged Russian interference in the 2016 U.S. election. The timing of Cohen\\u2019s testimony was first reported by NBC. Cohen confirmed that he would testify to the committee on Tuesday and said he did not know whether it would be in a closed session or public. Aides to the committee\\u2019s leaders did not immediately respond to requests for comment. Cohen said previously he had received a subpoena from at least one of the congressional committees investigating what U.S. intelligence has determined were Russia\\u2019s efforts to influence the election on Trump\\u2019s behalf, and whether Trump associates colluded with Russia. Russia denies such activity. The White House denies any collusion, but concerns about the issue and Trump\\u2019s ties to Russia have shadowed the first months of the Republican\\u2019s presidency. Cohen, a personal attorney to Trump, would be one of a series of close associates of the president to testify in Congress. Members of both the Senate and House of Representatives committees conducting investigations have said they expect to call more. Trump\\u2019s oldest son, Donald Trump Jr., testified to the Senate Judiciary Committee earlier this month. \",\n          \"HARARE (Reuters) - Zimbabwe s main opposition leader said on Monday President Robert Mugabe s refusal to resign had dampened people s spirits and called for an inclusive political process in the aftermath of a military intervention last week. Morgan Tsvangirai said there should be an all-stakeholders meeting to chart the country s future and that the next elections due next year should be supervised by the international community. \",\n          \"There is no word yet about whether or not the Hispanics in question were referred to by the plaintiff as  White Hispanics, (the George Zimmerman variety) Legendary restaurant Roscoe s House of Chicken  n Waffles has to cough up $1.6 million in an unlawful termination suit to an African American man who claimed he was discriminated against because he was black.The claim proves to be somewhat ironic given that the owner of the eatery, where President Barack Obama once dined when visiting Compton, is African American.CBS Los Angeles reported that Daniel Beasley sued Roscoe s for firing him after he complained to human resources that the managers harassed him for being black and gave preferential treatment, such as better work hours, to the Hispanic employees. It s owned by an African American owner, but he gives full authority to the Hispanics to run it,  Beasley told reporters.  It just caught me by surprise because here I am getting fired when I m trying to fix the problem. Beasley was frustrated that his complaints to management never got addressed, so he sued.  It s owned by an African American owner, but he gives full authority to the Hispanics to run it,  he told reporters.  It just caught me by surprise because here I am getting fired when I m trying to fix the problem. Beasley explained to CBS that he became homeless after he lost his job, so the hefty settlement becomes a huge victory for the grandfather from Compton.His lawyer Scott Cummings hopes that this win sends a message to other businesses out there.  Racism, racial harassment can occur really anywhere even in a black-owned business,  he asserted. Beasley added,  You can t treat people like that and get away with it constantly.  Via: Breitbart News\"\n        ],\n        \"semantic_type\": \"\",\n        \"description\": \"\"\n      }\n    },\n    {\n      \"column\": \"label\",\n      \"properties\": {\n        \"dtype\": \"number\",\n        \"std\": 0,\n        \"min\": 0,\n        \"max\": 1,\n        \"num_unique_values\": 2,\n        \"samples\": [\n          0,\n          1\n        ],\n        \"semantic_type\": \"\",\n        \"description\": \"\"\n      }\n    },\n    {\n      \"column\": \"processed_text\",\n      \"properties\": {\n        \"dtype\": \"string\",\n        \"num_unique_values\": 62718,\n        \"samples\": [\n          \"washington (reuters) - michael cohen, one of president donald trump\\u2019s closest business advisers, said on sunday he would testify on tuesday to the u.s. senate intelligence committee, as the panel investigates alleged russian interference in the 2016 u.s. election. the timing of cohen\\u2019s testimony was first reported by nbc. cohen confirmed that he would testify to the committee on tuesday and said he did not know whether it would be in a closed session or public. aides to the committee\\u2019s leaders did not immediately respond to requests for comment. cohen said previously he had received a subpoena from at least one of the congressional committees investigating what u.s. intelligence has determined were russia\\u2019s efforts to influence the election on trump\\u2019s behalf, and whether trump associates colluded with russia. russia denies such activity. the white house denies any collusion, but concerns about the issue and trump\\u2019s ties to russia have shadowed the first months of the republican\\u2019s presidency. cohen, a personal attorney to trump, would be one of a series of close associates of the president to testify in congress. members of both the senate and house of representatives committees conducting investigations have said they expect to call more. trump\\u2019s oldest son, donald trump jr., testified to the senate judiciary committee earlier this month. \",\n          \"harare (reuters) - zimbabwe s main opposition leader said on monday president robert mugabe s refusal to resign had dampened people s spirits and called for an inclusive political process in the aftermath of a military intervention last week. morgan tsvangirai said there should be an all-stakeholders meeting to chart the country s future and that the next elections due next year should be supervised by the international community. \"\n        ],\n        \"semantic_type\": \"\",\n        \"description\": \"\"\n      }\n    },\n    {\n      \"column\": \"cleaned_text\",\n      \"properties\": {\n        \"dtype\": \"string\",\n        \"num_unique_values\": 62637,\n        \"samples\": [\n          \"<GPE> <ORG> <GPE> <GPE> <NORP> trucks display missiles massive military parade <DATE> according photographs released state media underlining difficulty enforcing <ORG> sanctions isolated state <DATE> parade mark <FAC> birth anniversary founder president <PERSON> <PERSON> <PERSON> <GPE> <GPE> displayed pukkuksong submarine launched ballistic missiles slbm time towed trucks painted <NORP> <NORP> navy camouflage photographs logo <NORP> firm sinotruk seen vehicles   <DATE> <ORG> reported <GPE> <GPE>   <PERSON> <PERSON> trucks display new mobile artillery system   sinotruk sales official said <DATE> aware company trucks <DATE> <DATE> understanding business <NORP> <NORP> market <DATE> <GPE> <GPE> major focus said official gave <PERSON> refitted <GPE> <GPE> <GPE> maintain normal contacts including normal business contacts said <NORP> <ORG> <ORG> spokesman <PERSON> <PERSON> asked trucks time permanent member <ORG> <ORG> <ORG> <GPE> strictly adheres international responsibilities including security council resolutions <PERSON> told <DATE> news briefing   <DATE> united nations sanctions ship military hardware <GPE> <GPE> control equipment vehicles dual use military civilian   applications far stringent harder track <NORP> <NORP> state media past released images sinotruk chassis cabins propaganda related construction mining <ORG> report noted use trucks display mobile artillery <DATE> sinotruk said <NORP> seller included clear clause deal <NORP> <NORP> buyer trucks civilian use <GPE> <GPE> appeared reveal new types intercontinental ballistic missiles icbms <DATE> parade mounted large road truck identified earlier <PERSON> report <NORP> origin <DATE> statement sent <GPE> <GPE> <GPE> forestry ministry said trucks bought transport timber according <ORG> report <ORDINAL> icbms mounted <NORP> <NORP> branded taekpaeksan military truck tyres <GPE> based <ORG> <ORG> according photos parade seen <ORG> <ORG> <ORG> major tyre manufacturer headquartered <GPE> port city eastern <GPE> <GPE> said aware tyres military parade   possible resold official triangle export department said\",\n          \"denpasar <GPE> <ORG> <NORP> police hunting <GPE> citizen escaped <DATE> overcrowded prison holiday island bali cutting steel bars ceiling jail s <ORDINAL> breakout foreign inmates <DATE>   <PERSON> prison <QUANTITY> <QUANTITY> <QUANTITY> main tourist beaches kuta area holds foreigners facing drug related charges <PERSON> <PERSON> suspect crimes related narcotics sentenced escaped <TIME> <TIME> <DATE> gmt <DATE> said badung police chief yudith satria hananta   thought prisoner escaped cutting steel bars ceiling   said statement giving details beasley escaped detected <ORG> <DATE> <GPE> believed rope climb wall getting perimeter wall area refurbished police questioned witnesses guards hunting beasley hananta said <NORP> <PERSON> <PERSON> <PERSON> <DATE> captured trying escape hananta said representatives <ORG> <PERSON> immediately reached comment <DATE> <NORP> bulgarian <NORP> <NORP> tunneled freedom <QUANTITY> <QUANTITY> <QUANTITY> <QUANTITY> prison s walls <NORP> bulgarian caught soon neighboring <GPE> <GPE> <NORP> shaun <PERSON> <PERSON> <NORP> tee <PERSON> <PERSON> remain large <PERSON> taunted authorities saying enjoying life parts world purported posts facebook   <PERSON> housed number known foreign drug convicts including <NORP> schappelle corby <CARDINAL> <CARDINAL> year sentence <PERSON> smuggling got huge media attention <GPE> executed foreign drug convicts <DATE> <DATE> <NORP> prisons overcrowded partly war drugs led government president joko widodo led surge number people locked <DATE> <PERSON> housed <CARDINAL> inmates times planned capacity <CARDINAL> government data prison escapes fairly common <GPE> launched investigation <DATE> <CARDINAL> inmates broke prison island sumatra\"\n        ],\n        \"semantic_type\": \"\",\n        \"description\": \"\"\n      }\n    }\n  ]\n}"
            }
          },
          "metadata": {},
          "execution_count": 65
        }
      ],
      "source": [
        "#Few rows of the dataset to understand the data\n",
        "df.head()"
      ]
    },
    {
      "cell_type": "code",
      "execution_count": 66,
      "metadata": {
        "id": "gNlqIM85Zmse"
      },
      "outputs": [],
      "source": [
        "#importing the feature engineering libraries\n",
        "import tensorflow as tf\n",
        "from tensorflow.keras.preprocessing.text import Tokenizer\n",
        "from tensorflow.keras.preprocessing.sequence import pad_sequences"
      ]
    },
    {
      "cell_type": "code",
      "execution_count": 67,
      "metadata": {
        "id": "uWI7Nq5JZmsf"
      },
      "outputs": [],
      "source": [
        "#formatting the text column to string\n",
        "df['cleaned_text'] = df['cleaned_text'].astype(str)"
      ]
    },
    {
      "cell_type": "code",
      "execution_count": 68,
      "metadata": {
        "id": "GXw99H1KZmsf"
      },
      "outputs": [],
      "source": [
        "#tokenizing the text column\n",
        "tokenizer = Tokenizer(num_words=10000, oov_token=\"<OOV>\")\n",
        "tokenizer.fit_on_texts(df['cleaned_text'])"
      ]
    },
    {
      "cell_type": "code",
      "execution_count": 69,
      "metadata": {
        "colab": {
          "base_uri": "https://localhost:8080/"
        },
        "id": "fIohJhVvZmsg",
        "outputId": "f2a1a771-b342-4479-bb0b-6461051b855a"
      },
      "outputs": [
        {
          "output_type": "stream",
          "name": "stdout",
          "text": [
            "(62718, 200)\n"
          ]
        }
      ],
      "source": [
        "#sequencing and padding the text column\n",
        "sequences = tokenizer.texts_to_sequences(df['cleaned_text'])\n",
        "padded_text = pad_sequences(sequences,maxlen = 200, padding='post', truncating='post')\n",
        "\n",
        "print(padded_text.shape)"
      ]
    },
    {
      "cell_type": "code",
      "execution_count": 70,
      "metadata": {
        "id": "ggFdBUSrZmsg"
      },
      "outputs": [],
      "source": [
        "#splitting the data into train and test\n",
        "from sklearn.model_selection import train_test_split\n",
        "\n",
        "labels = df['label'].values\n",
        "\n",
        "# Spliting the data\n",
        "X_train, X_test, y_train, y_test = train_test_split(padded_text, labels, test_size=0.2, random_state=42)\n"
      ]
    },
    {
      "cell_type": "code",
      "execution_count": 71,
      "metadata": {
        "colab": {
          "base_uri": "https://localhost:8080/"
        },
        "id": "K-PLB9ntZmsg",
        "outputId": "85840cb4-36a4-4d6a-93be-2bf38aa10f19"
      },
      "outputs": [
        {
          "output_type": "stream",
          "name": "stdout",
          "text": [
            "the shape of X_train: (50174, 200)\n",
            "the shape of y_train: (50174,)\n"
          ]
        }
      ],
      "source": [
        "#printing the shape of the data\n",
        "print('the shape of X_train:',X_train.shape)\n",
        "print('the shape of y_train:',y_train.shape)\n"
      ]
    },
    {
      "cell_type": "code",
      "execution_count": 72,
      "metadata": {
        "id": "Uq9eoVlxZmsg"
      },
      "outputs": [],
      "source": [
        "#Building the model an Bidirectional LSTM model with Dropout Layers\n",
        "from tensorflow.keras.models import Sequential\n",
        "from tensorflow.keras.layers import Embedding, Bidirectional, LSTM,Dense, Dropout, SpatialDropout1D\n",
        "from tensorflow.keras.optimizers import Adam\n",
        "\n",
        "model = Sequential()\n",
        "model.add(Embedding(input_dim=10000, output_dim=256, input_length=200,kernel_regularizer=l2(0.01)))  # Embedding layer\n",
        "model.add(SpatialDropout1D(0.2))\n",
        "model.add(Bidirectional(LSTM(128, return_sequences=True)))  # Bidirectional LSTM layer\n",
        "model.add(Dropout(0.2))  # Dropout for regularization\n",
        "model.add(Bidirectional(LSTM(64)))  # Another Bidirectional LSTM layer\n",
        "model.add(Dropout(0.2))\n",
        "model.add(Dense(1, activation='sigmoid'))  # Output layer for binary classification\n",
        "\n",
        "\n",
        "# Compiling the model\n",
        "model.compile(loss='binary_crossentropy', optimizer=Adam(learning_rate=0.001), metrics=['accuracy'])\n",
        "\n"
      ]
    },
    {
      "cell_type": "code",
      "execution_count": 73,
      "metadata": {
        "colab": {
          "base_uri": "https://localhost:8080/"
        },
        "id": "_aD7HdJHZmsh",
        "outputId": "ee415883-c8c5-4761-c3e1-ae467f343503"
      },
      "outputs": [
        {
          "output_type": "stream",
          "name": "stdout",
          "text": [
            "Epoch 1/10\n",
            "392/392 - 626s - loss: 0.2182 - accuracy: 0.9100 - val_loss: 0.1354 - val_accuracy: 0.9490 - 626s/epoch - 2s/step\n",
            "Epoch 2/10\n",
            "392/392 - 656s - loss: 0.0874 - accuracy: 0.9700 - val_loss: 0.1155 - val_accuracy: 0.9574 - 656s/epoch - 2s/step\n",
            "Epoch 3/10\n",
            "392/392 - 652s - loss: 0.0514 - accuracy: 0.9840 - val_loss: 0.1358 - val_accuracy: 0.9555 - 652s/epoch - 2s/step\n",
            "Epoch 4/10\n",
            "392/392 - 626s - loss: 0.0343 - accuracy: 0.9895 - val_loss: 0.1446 - val_accuracy: 0.9542 - 626s/epoch - 2s/step\n",
            "Epoch 5/10\n",
            "392/392 - 668s - loss: 0.0248 - accuracy: 0.9922 - val_loss: 0.1686 - val_accuracy: 0.9586 - 668s/epoch - 2s/step\n",
            "Epoch 6/10\n",
            "392/392 - 663s - loss: 0.0218 - accuracy: 0.9933 - val_loss: 0.2514 - val_accuracy: 0.9440 - 663s/epoch - 2s/step\n",
            "Epoch 7/10\n",
            "392/392 - 622s - loss: 0.0150 - accuracy: 0.9958 - val_loss: 0.1975 - val_accuracy: 0.9508 - 622s/epoch - 2s/step\n",
            "Epoch 8/10\n",
            "392/392 - 666s - loss: 0.0122 - accuracy: 0.9963 - val_loss: 0.1698 - val_accuracy: 0.9566 - 666s/epoch - 2s/step\n",
            "Epoch 9/10\n",
            "392/392 - 669s - loss: 0.0160 - accuracy: 0.9949 - val_loss: 0.1721 - val_accuracy: 0.9574 - 669s/epoch - 2s/step\n",
            "Epoch 10/10\n",
            "392/392 - 636s - loss: 0.0085 - accuracy: 0.9976 - val_loss: 0.2287 - val_accuracy: 0.9551 - 636s/epoch - 2s/step\n"
          ]
        }
      ],
      "source": [
        "#Training the Model\n",
        "history = model.fit(X_train, y_train, epochs=10, batch_size=128, validation_data=(X_test, y_test), verbose=2)\n"
      ]
    },
    {
      "cell_type": "code",
      "execution_count": 74,
      "metadata": {
        "colab": {
          "base_uri": "https://localhost:8080/"
        },
        "id": "F1ChZuFYZmsh",
        "outputId": "161428b6-47cb-4932-d734-01bb528907bd"
      },
      "outputs": [
        {
          "output_type": "stream",
          "name": "stdout",
          "text": [
            "392/392 [==============================] - 50s 113ms/step\n"
          ]
        }
      ],
      "source": [
        "#Evaluating the Model\n",
        "from sklearn.metrics import accuracy_score, classification_report\n",
        "\n",
        "# Make predictions on the test set\n",
        "y_pred = model.predict(X_test)\n",
        "y_pred_classes = (y_pred > 0.5).astype(int)  # Convert probabilities to binary predictions\n",
        "\n"
      ]
    },
    {
      "cell_type": "code",
      "source": [
        "# Calculate accuracy\n",
        "accuracy = accuracy_score(y_test, y_pred_classes)\n",
        "print(f\"Accuracy: {accuracy}\")"
      ],
      "metadata": {
        "id": "3Qk5mc1oZb_0",
        "outputId": "6df0dfd9-cb26-4f1e-8c5d-3e8e06dda252",
        "colab": {
          "base_uri": "https://localhost:8080/"
        }
      },
      "execution_count": 78,
      "outputs": [
        {
          "output_type": "stream",
          "name": "stdout",
          "text": [
            "Accuracy: 0.9551179846938775\n"
          ]
        }
      ]
    },
    {
      "cell_type": "code",
      "execution_count": 75,
      "metadata": {
        "colab": {
          "base_uri": "https://localhost:8080/"
        },
        "id": "V5Gq8LE3xMhs",
        "outputId": "392041da-012e-4f12-e5c0-1c1e67fe7dbf"
      },
      "outputs": [
        {
          "output_type": "stream",
          "name": "stdout",
          "text": [
            "              precision    recall  f1-score   support\n",
            "\n",
            "           0       0.97      0.95      0.96      6922\n",
            "           1       0.94      0.96      0.95      5622\n",
            "\n",
            "    accuracy                           0.96     12544\n",
            "   macro avg       0.95      0.96      0.95     12544\n",
            "weighted avg       0.96      0.96      0.96     12544\n",
            "\n"
          ]
        }
      ],
      "source": [
        "#classification score\n",
        "print(classification_report(y_test, y_pred_classes))"
      ]
    },
    {
      "cell_type": "code",
      "execution_count": 76,
      "metadata": {
        "colab": {
          "base_uri": "https://localhost:8080/",
          "height": 539
        },
        "id": "EYtVttp6xkmN",
        "outputId": "836c623e-d7c2-4a40-e8bd-116aed81a927"
      },
      "outputs": [
        {
          "output_type": "execute_result",
          "data": {
            "text/plain": [
              "<Axes: >"
            ]
          },
          "metadata": {},
          "execution_count": 76
        },
        {
          "output_type": "display_data",
          "data": {
            "text/plain": [
              "<Figure size 800x600 with 2 Axes>"
            ],
            "image/png": "[encoded data removed]"
          },
          "metadata": {}
        }
      ],
      "source": [
        "#applying the confusion matrix to visualize the evaluation\n",
        "from sklearn.metrics import confusion_matrix\n",
        "import matplotlib.pyplot as plt\n",
        "import seaborn as sns\n",
        "cm = confusion_matrix(y_test, y_pred_classes)\n",
        "plt.figure(figsize=(8, 6))\n",
        "sns.heatmap(cm, annot=True, fmt='d', cmap='Blues', xticklabels=['Real', 'Fake'], yticklabels=['Real', 'Fake'])"
      ]
    },
    {
      "cell_type": "code",
      "source": [
        "plt.figure(figsize=(8, 6))\n",
        "plt.plot(history.history['accuracy'])\n",
        "plt.plot(history.history['val_accuracy'])\n",
        "plt.xlabel('Epoch')\n",
        "plt.ylabel('Accuracy')\n",
        "plt.legend(['Train', 'Test'])\n",
        "plt.show()"
      ],
      "metadata": {
        "id": "-ep16-_5azB4",
        "outputId": "96d932d8-2813-4dbe-c896-7e4c72af7b03",
        "colab": {
          "base_uri": "https://localhost:8080/",
          "height": 542
        }
      },
      "execution_count": 83,
      "outputs": [
        {
          "output_type": "display_data",
          "data": {
            "text/plain": [
              "<Figure size 800x600 with 1 Axes>"
            ],
            "image/png": "[encoded data removed]"
          },
          "metadata": {}
        }
      ]
    },
    {
      "cell_type": "code",
      "source": [
        "plt.figure(figsize = (8,6))\n",
        "plt.plot(history.history['loss'])\n",
        "plt.plot(history.history['val_loss'])\n",
        "plt.xlabel('Epoch')\n",
        "plt.ylabel('Loss')\n",
        "plt.legend(['Train','Test'])\n",
        "plt.show()"
      ],
      "metadata": {
        "id": "EnFVmFlDbqGA",
        "outputId": "bbe9455d-cc8a-445a-c18b-859fd5a29f6d",
        "colab": {
          "base_uri": "https://localhost:8080/",
          "height": 542
        }
      },
      "execution_count": 85,
      "outputs": [
        {
          "output_type": "display_data",
          "data": {
            "text/plain": [
              "<Figure size 800x600 with 1 Axes>"
            ],
            "image/png": "[encoded data removed]"
          },
          "metadata": {}
        }
      ]
    },
    {
      "cell_type": "code",
      "execution_count": 77,
      "metadata": {
        "colab": {
          "base_uri": "https://localhost:8080/"
        },
        "id": "14iEgAQMg5ou",
        "outputId": "61326f06-af59-4d2d-b087-d30b81dbb45b"
      },
      "outputs": [
        {
          "output_type": "stream",
          "name": "stderr",
          "text": [
            "/usr/local/lib/python3.10/dist-packages/keras/src/engine/training.py:3000: UserWarning: You are saving your model as an HDF5 file via `model.save()`. This file format is considered legacy. We recommend using instead the native Keras format, e.g. `model.save('my_model.keras')`.\n",
            "  saving_api.save_model(\n"
          ]
        }
      ],
      "source": [
        "#Saving the model\n",
        "model.save('fake_news_classifier_bidir_lstm.h5')"
      ]
    }
  ],
  "metadata": {
    "accelerator": "GPU",
    "colab": {
      "gpuType": "T4",
      "provenance": []
    },
    "kernelspec": {
      "display_name": "Python 3",
      "name": "python3"
    },
    "language_info": {
      "codemirror_mode": {
        "name": "ipython",
        "version": 3
      },
      "file_extension": ".py",
      "mimetype": "text/x-python",
      "name": "python",
      "nbconvert_exporter": "python",
      "pygments_lexer": "ipython3",
      "version": "3.12.5"
    }
  },
  "nbformat": 4,
  "nbformat_minor": 0
}