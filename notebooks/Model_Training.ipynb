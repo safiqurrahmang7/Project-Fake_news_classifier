{
  "cells": [
    {
      "cell_type": "markdown",
      "metadata": {
        "id": "view-in-github",
        "colab_type": "text"
      },
      "source": [
        "<a href=\"https://colab.research.google.com/github/safiqurrahmang7/Project-Fake_news_classifier/blob/main/notebooks/Model_Training.ipynb\" target=\"_parent\"><img src=\"https://colab.research.google.com/assets/colab-badge.svg\" alt=\"Open In Colab\"/></a>"
      ]
    },
    {
      "cell_type": "code",
      "execution_count": 1,
      "metadata": {
        "id": "AifRs-nMZmsd"
      },
      "outputs": [],
      "source": [
        "import pandas as pd\n",
        "df = pd.read_csv('/content/fake_news_processed.csv')"
      ]
    },
    {
      "cell_type": "code",
      "execution_count": 2,
      "metadata": {
        "id": "E3C_Ro8WZmse",
        "outputId": "bca58b1f-0a28-46fb-fa98-1d828c03ca8a",
        "colab": {
          "base_uri": "https://localhost:8080/",
          "height": 275
        }
      },
      "outputs": [
        {
          "output_type": "execute_result",
          "data": {
            "text/plain": [
              "                                                text  label  \\\n",
              "0  no comment is expected from barack obama membe...      1   \n",
              "1      did they post their votes for hillary already      1   \n",
              "2   now most of the demonstrators gathered last n...      1   \n",
              "3  a dozen politically active pastors came here f...      0   \n",
              "4  the rs28 sarmat missile dubbed satan 2 will re...      1   \n",
              "\n",
              "                                      processed_text  \n",
              "0  no comment is expected from barack obama membe...  \n",
              "1       did they post their vote for hillary already  \n",
              "2  now most of the demonstrator gathered last nig...  \n",
              "3  a dozen politically active pastor came here fo...  \n",
              "4  the rs28 sarmat missile dubbed satan 2 will re...  "
            ],
            "text/html": [
              "\n",
              "  <div id=\"df-4abfd054-2af2-48cf-8c06-e7b5fe40bb04\" class=\"colab-df-container\">\n",
              "    <div>\n",
              "<style scoped>\n",
              "    .dataframe tbody tr th:only-of-type {\n",
              "        vertical-align: middle;\n",
              "    }\n",
              "\n",
              "    .dataframe tbody tr th {\n",
              "        vertical-align: top;\n",
              "    }\n",
              "\n",
              "    .dataframe thead th {\n",
              "        text-align: right;\n",
              "    }\n",
              "</style>\n",
              "<table border=\"1\" class=\"dataframe\">\n",
              "  <thead>\n",
              "    <tr style=\"text-align: right;\">\n",
              "      <th></th>\n",
              "      <th>text</th>\n",
              "      <th>label</th>\n",
              "      <th>processed_text</th>\n",
              "    </tr>\n",
              "  </thead>\n",
              "  <tbody>\n",
              "    <tr>\n",
              "      <th>0</th>\n",
              "      <td>no comment is expected from barack obama membe...</td>\n",
              "      <td>1</td>\n",
              "      <td>no comment is expected from barack obama membe...</td>\n",
              "    </tr>\n",
              "    <tr>\n",
              "      <th>1</th>\n",
              "      <td>did they post their votes for hillary already</td>\n",
              "      <td>1</td>\n",
              "      <td>did they post their vote for hillary already</td>\n",
              "    </tr>\n",
              "    <tr>\n",
              "      <th>2</th>\n",
              "      <td>now most of the demonstrators gathered last n...</td>\n",
              "      <td>1</td>\n",
              "      <td>now most of the demonstrator gathered last nig...</td>\n",
              "    </tr>\n",
              "    <tr>\n",
              "      <th>3</th>\n",
              "      <td>a dozen politically active pastors came here f...</td>\n",
              "      <td>0</td>\n",
              "      <td>a dozen politically active pastor came here fo...</td>\n",
              "    </tr>\n",
              "    <tr>\n",
              "      <th>4</th>\n",
              "      <td>the rs28 sarmat missile dubbed satan 2 will re...</td>\n",
              "      <td>1</td>\n",
              "      <td>the rs28 sarmat missile dubbed satan 2 will re...</td>\n",
              "    </tr>\n",
              "  </tbody>\n",
              "</table>\n",
              "</div>\n",
              "    <div class=\"colab-df-buttons\">\n",
              "\n",
              "  <div class=\"colab-df-container\">\n",
              "    <button class=\"colab-df-convert\" onclick=\"convertToInteractive('df-4abfd054-2af2-48cf-8c06-e7b5fe40bb04')\"\n",
              "            title=\"Convert this dataframe to an interactive table.\"\n",
              "            style=\"display:none;\">\n",
              "\n",
              "  <svg xmlns=\"http://www.w3.org/2000/svg\" height=\"24px\" viewBox=\"0 -960 960 960\">\n",
              "    <path d=\"M120-120v-720h720v720H120Zm60-500h600v-160H180v160Zm220 220h160v-160H400v160Zm0 220h160v-160H400v160ZM180-400h160v-160H180v160Zm440 0h160v-160H620v160ZM180-180h160v-160H180v160Zm440 0h160v-160H620v160Z\"/>\n",
              "  </svg>\n",
              "    </button>\n",
              "\n",
              "  <style>\n",
              "    .colab-df-container {\n",
              "      display:flex;\n",
              "      gap: 12px;\n",
              "    }\n",
              "\n",
              "    .colab-df-convert {\n",
              "      background-color: #E8F0FE;\n",
              "      border: none;\n",
              "      border-radius: 50%;\n",
              "      cursor: pointer;\n",
              "      display: none;\n",
              "      fill: #1967D2;\n",
              "      height: 32px;\n",
              "      padding: 0 0 0 0;\n",
              "      width: 32px;\n",
              "    }\n",
              "\n",
              "    .colab-df-convert:hover {\n",
              "      background-color: #E2EBFA;\n",
              "      box-shadow: 0px 1px 2px rgba(60, 64, 67, 0.3), 0px 1px 3px 1px rgba(60, 64, 67, 0.15);\n",
              "      fill: #174EA6;\n",
              "    }\n",
              "\n",
              "    .colab-df-buttons div {\n",
              "      margin-bottom: 4px;\n",
              "    }\n",
              "\n",
              "    [theme=dark] .colab-df-convert {\n",
              "      background-color: #3B4455;\n",
              "      fill: #D2E3FC;\n",
              "    }\n",
              "\n",
              "    [theme=dark] .colab-df-convert:hover {\n",
              "      background-color: #434B5C;\n",
              "      box-shadow: 0px 1px 3px 1px rgba(0, 0, 0, 0.15);\n",
              "      filter: drop-shadow(0px 1px 2px rgba(0, 0, 0, 0.3));\n",
              "      fill: #FFFFFF;\n",
              "    }\n",
              "  </style>\n",
              "\n",
              "    <script>\n",
              "      const buttonEl =\n",
              "        document.querySelector('#df-4abfd054-2af2-48cf-8c06-e7b5fe40bb04 button.colab-df-convert');\n",
              "      buttonEl.style.display =\n",
              "        google.colab.kernel.accessAllowed ? 'block' : 'none';\n",
              "\n",
              "      async function convertToInteractive(key) {\n",
              "        const element = document.querySelector('#df-4abfd054-2af2-48cf-8c06-e7b5fe40bb04');\n",
              "        const dataTable =\n",
              "          await google.colab.kernel.invokeFunction('convertToInteractive',\n",
              "                                                    [key], {});\n",
              "        if (!dataTable) return;\n",
              "\n",
              "        const docLinkHtml = 'Like what you see? Visit the ' +\n",
              "          '<a target=\"_blank\" href=https://colab.research.google.com/notebooks/data_table.ipynb>data table notebook</a>'\n",
              "          + ' to learn more about interactive tables.';\n",
              "        element.innerHTML = '';\n",
              "        dataTable['output_type'] = 'display_data';\n",
              "        await google.colab.output.renderOutput(dataTable, element);\n",
              "        const docLink = document.createElement('div');\n",
              "        docLink.innerHTML = docLinkHtml;\n",
              "        element.appendChild(docLink);\n",
              "      }\n",
              "    </script>\n",
              "  </div>\n",
              "\n",
              "\n",
              "<div id=\"df-dbef74a7-7d3f-4aca-ba03-f810208d60be\">\n",
              "  <button class=\"colab-df-quickchart\" onclick=\"quickchart('df-dbef74a7-7d3f-4aca-ba03-f810208d60be')\"\n",
              "            title=\"Suggest charts\"\n",
              "            style=\"display:none;\">\n",
              "\n",
              "<svg xmlns=\"http://www.w3.org/2000/svg\" height=\"24px\"viewBox=\"0 0 24 24\"\n",
              "     width=\"24px\">\n",
              "    <g>\n",
              "        <path d=\"M19 3H5c-1.1 0-2 .9-2 2v14c0 1.1.9 2 2 2h14c1.1 0 2-.9 2-2V5c0-1.1-.9-2-2-2zM9 17H7v-7h2v7zm4 0h-2V7h2v10zm4 0h-2v-4h2v4z\"/>\n",
              "    </g>\n",
              "</svg>\n",
              "  </button>\n",
              "\n",
              "<style>\n",
              "  .colab-df-quickchart {\n",
              "      --bg-color: #E8F0FE;\n",
              "      --fill-color: #1967D2;\n",
              "      --hover-bg-color: #E2EBFA;\n",
              "      --hover-fill-color: #174EA6;\n",
              "      --disabled-fill-color: #AAA;\n",
              "      --disabled-bg-color: #DDD;\n",
              "  }\n",
              "\n",
              "  [theme=dark] .colab-df-quickchart {\n",
              "      --bg-color: #3B4455;\n",
              "      --fill-color: #D2E3FC;\n",
              "      --hover-bg-color: #434B5C;\n",
              "      --hover-fill-color: #FFFFFF;\n",
              "      --disabled-bg-color: #3B4455;\n",
              "      --disabled-fill-color: #666;\n",
              "  }\n",
              "\n",
              "  .colab-df-quickchart {\n",
              "    background-color: var(--bg-color);\n",
              "    border: none;\n",
              "    border-radius: 50%;\n",
              "    cursor: pointer;\n",
              "    display: none;\n",
              "    fill: var(--fill-color);\n",
              "    height: 32px;\n",
              "    padding: 0;\n",
              "    width: 32px;\n",
              "  }\n",
              "\n",
              "  .colab-df-quickchart:hover {\n",
              "    background-color: var(--hover-bg-color);\n",
              "    box-shadow: 0 1px 2px rgba(60, 64, 67, 0.3), 0 1px 3px 1px rgba(60, 64, 67, 0.15);\n",
              "    fill: var(--button-hover-fill-color);\n",
              "  }\n",
              "\n",
              "  .colab-df-quickchart-complete:disabled,\n",
              "  .colab-df-quickchart-complete:disabled:hover {\n",
              "    background-color: var(--disabled-bg-color);\n",
              "    fill: var(--disabled-fill-color);\n",
              "    box-shadow: none;\n",
              "  }\n",
              "\n",
              "  .colab-df-spinner {\n",
              "    border: 2px solid var(--fill-color);\n",
              "    border-color: transparent;\n",
              "    border-bottom-color: var(--fill-color);\n",
              "    animation:\n",
              "      spin 1s steps(1) infinite;\n",
              "  }\n",
              "\n",
              "  @keyframes spin {\n",
              "    0% {\n",
              "      border-color: transparent;\n",
              "      border-bottom-color: var(--fill-color);\n",
              "      border-left-color: var(--fill-color);\n",
              "    }\n",
              "    20% {\n",
              "      border-color: transparent;\n",
              "      border-left-color: var(--fill-color);\n",
              "      border-top-color: var(--fill-color);\n",
              "    }\n",
              "    30% {\n",
              "      border-color: transparent;\n",
              "      border-left-color: var(--fill-color);\n",
              "      border-top-color: var(--fill-color);\n",
              "      border-right-color: var(--fill-color);\n",
              "    }\n",
              "    40% {\n",
              "      border-color: transparent;\n",
              "      border-right-color: var(--fill-color);\n",
              "      border-top-color: var(--fill-color);\n",
              "    }\n",
              "    60% {\n",
              "      border-color: transparent;\n",
              "      border-right-color: var(--fill-color);\n",
              "    }\n",
              "    80% {\n",
              "      border-color: transparent;\n",
              "      border-right-color: var(--fill-color);\n",
              "      border-bottom-color: var(--fill-color);\n",
              "    }\n",
              "    90% {\n",
              "      border-color: transparent;\n",
              "      border-bottom-color: var(--fill-color);\n",
              "    }\n",
              "  }\n",
              "</style>\n",
              "\n",
              "  <script>\n",
              "    async function quickchart(key) {\n",
              "      const quickchartButtonEl =\n",
              "        document.querySelector('#' + key + ' button');\n",
              "      quickchartButtonEl.disabled = true;  // To prevent multiple clicks.\n",
              "      quickchartButtonEl.classList.add('colab-df-spinner');\n",
              "      try {\n",
              "        const charts = await google.colab.kernel.invokeFunction(\n",
              "            'suggestCharts', [key], {});\n",
              "      } catch (error) {\n",
              "        console.error('Error during call to suggestCharts:', error);\n",
              "      }\n",
              "      quickchartButtonEl.classList.remove('colab-df-spinner');\n",
              "      quickchartButtonEl.classList.add('colab-df-quickchart-complete');\n",
              "    }\n",
              "    (() => {\n",
              "      let quickchartButtonEl =\n",
              "        document.querySelector('#df-dbef74a7-7d3f-4aca-ba03-f810208d60be button');\n",
              "      quickchartButtonEl.style.display =\n",
              "        google.colab.kernel.accessAllowed ? 'block' : 'none';\n",
              "    })();\n",
              "  </script>\n",
              "</div>\n",
              "\n",
              "    </div>\n",
              "  </div>\n"
            ],
            "application/vnd.google.colaboratory.intrinsic+json": {
              "type": "dataframe",
              "variable_name": "df",
              "summary": "{\n  \"name\": \"df\",\n  \"rows\": 62718,\n  \"fields\": [\n    {\n      \"column\": \"text\",\n      \"properties\": {\n        \"dtype\": \"string\",\n        \"num_unique_values\": 62716,\n        \"samples\": [\n          \"moscow reuters  russian prime minister dmitry medvedev said on thursday allegations that russian athletes used doping during the 2014 sochi olympics were  political manipulations  in a new antirussian campaign   that sochi olympics was a brilliant victory and no foreign forces can make us believe the opposite  this angle has become a cornerstone of the political campaign against russia  medvedev said in an interview with russian television channels broadcast live  the international olympic committee is retesting all russian athletes  samples from the event after grigory rodchenkov the former head of moscow s discredited antidoping laboratory blew the whistle on what he said was a statesponsored doping programme  \",\n          \"shorty pepe escobar your honors in this venue i announce my separation from the united statesboth in military and economics also t hus philippines president rodrigo the punisher duterte unleashed a geopolitical earthquake encompassing eurasia and reverberating all across the pacific ocean\\nand talk about choosing his venue with aplomb right in the heart of the rising dragon no less \\ncapping his state visit to beijing duterte then coined the mantra  pregnant with overtones  that will keep ringing all across the global south america has lost \\nand if that was not enough he announced a new alliance  philippines china and russia  is about to emerge there are three of us against the world \\npredictably the beltway establishment in the indispensable nation went bananas reacting as puzzled or in outright anger dispersing the usual expletives on the crude populist unhinged leader \\nthe bottom line is that it takes a lot of balls for the leader of a poor developing country in southeast asia or elsewhere to openly defy the hyperpower yet what duterte is gaming at is pure realpolitik if he prevails he will be able to deftly play the us against china to the benefit of filipino interests \\nthe springtime of our relationship \\nit did start with a bang during dutertes china visit manila inked no less than 13 billion in deals with beijing  from trade and investment to drug control maritime security and infrastructure \\nbeijing pulled out all stops to make duterte feel welcomed \\npresident xi jinping suggested manila and beijing should temporarily put aside the intractable south china sea disputes and learn from the political wisdom of history  as in give space to diplomatic talks after all the two peoples were bloodlinked brothers \\nduterte replied in kind even as we arrive in beijing close to winter this is the springtime of our relationship he told xi at the great hall of the people \\nchina is already the philippines secondlargest trade partner behind japan the us and singapore filipino exports to these three are at roughly 427 percent of the total compared to 221 to chinahong kong imports from china are roughly 161 percent of the total even as trade with china is bound to rise what really matters for duterte is massive chinese infrastructure investment \\nwhat this will mean in practice is indeed groundbreaking the chinaled asian infrastructure investment bank aiib will definitely be involved in philippine economic development manila will be more involved in promoting smooth chinaasean relations in all sorts of regional issues it takes the rotating chair of asean in 2017 and the philippines will be more integrated in the new silk roads aka one belt one road obor \\nthree strikes no wonder the us is out and theres even a fourth strike embedded in dutertes promise that he will soon end military cooperation with the us despite the opposition of part of the filipino armed forces \\nwatch the first island chain \\nthe buildup had already been dramatic enough on the eve of his meeting with xi talking to members of the filipino community in beijing duterte said its time to say goodbye to the us i will not ask but if they the chinese offer and if theyll ask me do you need this aid i will say of course we are very poor \\nthen the clincher i will not go to america anymore  we will just be insulted there naval base subic bay was a major shiprepair supply and rest and recreation facility of the spanish navy and subsequently the united states navy located in olongapo zambales philippines the base was 262 square miles about the size of singapore it was finally turned over to the filipino government in 1992 \\nthe us was the colonial power in the philippines from 1899 to 1942 hollywood permeates the collective unconscious english is the lingua franca  side by side with tagalog but the tentacles of uncle sams protection racket are not exactly welcomed two of the largest components of the us empire of bases were located for decades in the philippines clark air force base and subic bay naval base \\nclark occupying 230 square miles with 15000 people was busy to death during the vietnam war  the main hub for men and hardware in and out of saigon then it turned into one of those pentagon forward operating hqs subic occupying 260 square miles was as busy as clark it was the forward operating base for the us 7th fleet \\nalready in 1987 before the end of the cold war the rand corporation was alarmed by the loss of both bases that would be devastating for regional security devastating in the  mythical  sense of defending the interests of asean and the security of the sealanes \\ntranslation the pentagon and the us navy would lose a key instrument of pressure over asean as protecting the security of the sealanes was always the key justification for those bases \\nand lose they eventually did clark was closed down in november 1991 and subic in november 1992 \\nit took years for china to sense an opening  and profit from it after all during the 1990s and the early 2000s the absolute priority was breakneck speed internal development but then beijing did the math no more us bases opened untold vistas as far as the first island chain is concerned \\nthe first island chain is a product over millennia of the fabulous tectonic forces of the ring of fire a chain of islands running from southern japan in the north to borneo in the south for beijing they work as a sort of shield for the chinese eastern seaboard if this chain is secure asia is secure \\nfor all practical purposes beijing considers the first island chain as a nonnegotiable western pacific demarcation zone  ideally with no foreign as in us interference the south china sea  which in parts is characterized by manila as the western philippine sea  is inside the first island chain so to really secure the first island chain the south china sea must be free of foreign interference \\nand here we are plunged at the heart of arguably the key 21st century hotspot in asian geopolitics  the main reason for the obama administrations pivot to asia \\nthe us navy so far counted on the philippines to oppose the proverbial hyped up chinese aggression in the south china and east china seas the neoconneoliberalcon industrialmilitary complex fury against unhinged dutertes gamechanger is that containing china and ruling over the first island chain has been at the core of us naval strategy since the beginning of the cold war \\nbeijing meanwhile will have all the time needed to polish its strategic environment this has nothing to do with freedom of navigation and protecting sealanes everyone needs south china sea crosstrade its all about china  perhaps within the next ten years  being able to deny access to the us navy in the south china sea and inside the first island chain \\ndutertes gamechanging america has lost is just a new salvo in arguably the key 21st century geopolitical thriller a supreme court justice in manila for instance has warned duterte that were he to give up sovereignty over the scarborough shoal he could be impeached that wont happen duterte wants loads of chinese trade and investment not abdicate from sovereignty hed rather be ready to confront being demonized by the hyperpower as much as the late hugo chavez was in his heyday \\ncrossposted with strategic culture  first iteration note all image captions pull quotes and commentary by the editors not the authors please comment and debate directly on our facebook group installation about the author pepe escobar is the author of globalistan how the globalized world is dissolving into liquid war nimble books 2007 red zone blues a snapshot of baghdad during the surge and obama does globalistan nimble books 2009 his latest book is empire of chaos  he may be reached at pepeasiayahoocom    \\nwhat will it take to bring america to live according to its own propaganda subscribe today nothing to lose everything to gain free  safe  invaluable if you appreciate our articles do the right thing and let us know by subscribing its free and it implies no obligation to you ever we just want to have a way to reach our most loyal readers on important occasions when their input is necessary in return you get our email newsletter compiling the best of the greanville post several times a week\",\n          \"fearing that the 2016 presidential election will be a disaster   with hillary clinton and senate democrats looking pretty favorable   republicans have of course have been working overtime to suppress the vote in a key battleground state ohioas everyone knows no person elected president has ever won without winning ohio even though clinton wouldn t need ohio as long as she nabs virginia north carolina and florida to win that hasn t stopped republicans from already attempting to rig the electionhowever their hopes of doing just that were destroyed in court when a federal judge issued a ruling that the state s new laws restricting the collection and counting of absentee ballots and poll workers aiding voters were unconstitutional on racial grounds judge algenon marble wrote in his decisionvoter suppression tactics have not disappeared but are now merely cloaked in ostensibly raceneutral languagejudge marble also noted that the state s decision to bar poll workers from helping minorities fill out ballots unless the voter affirmed that he or she was disabled or illiterate was in violation of the constitution for it established a  literacy test  on those seeking to votethe court agrees with dr timberlake that these inequalities rooted in historical discrimination against africanamericans have  significant and farreaching  effects with specific and direct consequences for voting because low literacy levels are also correlated with substandard education and the court has credited dr timberlake s findings that africanamericans suffer from lower educational attainment than whites in ohio the court concludes that africanamericans would also suffer from higher costs associated with the fivefield requirement and the prohibition on pollworker assistance because they would face disproportionately more challenges filling out the forms  because africanamericans move more frequently than whites they may be more likely to be forced to vote provisionally they are also more likely to be homeless  and because they are more likely to have inflexible schedules or lack accessin other words the state of ohio which is run by republicans attempted to circumvent black voters by instilling on them an option know how to spell or your vote doesn t matterrepublicans literally just tried to turn black people away from voting   in 2016this is what republicans do they disenfranchise black voters because they know their days of white rule are coming to and endfeatured image via andrew burtongetty images\"\n        ],\n        \"semantic_type\": \"\",\n        \"description\": \"\"\n      }\n    },\n    {\n      \"column\": \"label\",\n      \"properties\": {\n        \"dtype\": \"number\",\n        \"std\": 0,\n        \"min\": 0,\n        \"max\": 1,\n        \"num_unique_values\": 2,\n        \"samples\": [\n          0,\n          1\n        ],\n        \"semantic_type\": \"\",\n        \"description\": \"\"\n      }\n    },\n    {\n      \"column\": \"processed_text\",\n      \"properties\": {\n        \"dtype\": \"string\",\n        \"num_unique_values\": 62663,\n        \"samples\": [\n          \"many voter arent enthused about the prospect of a clinton v trump election so will they fall in line and back one or not how snls the bubble sketch about polarization is all too true anna reid peek out of the voting booth a she wait for her mother to finish voting in the pennsylvania primary at the cumberland township municipal building in gettysburg pa tuesday justin schoville accomplished a rare feat for a protester at a trump event he managed to get himself thrown out three time just before donald trump maiden foreign policy address at the mayflower hotel in washington on wednesday trump is a fascist we are a democracy he shouted during his second forced exit from the hotel lobby just a day before mr schoville a research analyst in bethesda voted for bernie sander in the maryland primary but if the race come down to mr trump v hillary clinton he say he would vote for green party candidate jill stein even if it might help elect trump i cant in good conscience give my support to hillary clinton she represents the establishment the 1 percent and her policy i think will only deepen the problem that have caused donald trump to rise in the first place he say in most typical presidential election voter like schoville might already have sighed and reluctantly thrown their support behind mr clinton presidential primary race were all but over before the cherry tree blossomed along the potomac this year however the capital is deep into the azalea season and the passion among voter and activist backing the underdog are still blazing even a clinton and trump have now gained enough momentum to claim to be the presumptive nominee for november many voter are showing few sign of accepting that will they eventually rally around the presumptive leader it an oftrepeated question every presidential campaign but the peculiar dynamic of this race make the answer less certain in the past disgruntled primary voter have rallied to the eventual nominee by one measure the tea party insurgent who seemingly held their nose to vote for mitt romney in 2012 were actually among his most active supporter during the general election there are indicator that the same thing could happen on the democratic side this time but clinton and trump are two of the three least popular presidential candidate of the past 24 year according to gallup and the question for republican is reversed if mr trump win will the moderate and establishment conservative rally to his cause that answer appears less certain for their part sander voter arent conceding yet their candidate delivered another rocktherafters townhall meeting at gettysburg college in pennsylvania last friday just down the road from the site of pickett charge that ended the confederate advance north on day 3 of the battle of gettysburg but clinton still swept four of five primary this week along with enough delegate to put the nomination virtually out of reach for the vermont senator but while sander is already shifting gear away from winning the nomination to influencing the party platform many of his supporter at the polling place on the gettysburg campus are still feeling bern and disappointed at the mounting prospect that clinton will be the nominee dana suitte who work for a printing company in gettysburg say she told her four son to vote for sander i really like the fact that he want to look at everything and change anything thats not working while clinton come off like a politician and is just running on her history with nothing original to say i think that she think that because a lot of black people voted for her husband they will automatically vote for her and thats not true say m suitte who is black but her view could change if clinton picked sander a a running mate she say i would love a woman to be president but i thought i wanted a little bit more from her the only upside is bill clinton influence in the white house with her she add bill clinton wa a really good president that would be my only confidence on the republican side it the antiestablishment side that triumphed a donald trump ran the table with outsize win in pennsylvania maryland delaware connecticut and rhode island many republican now face what some see a an even tougher choice over whether to support trump a recent gallup poll find that 51 percent of democrat have a favorable view of both clinton and sander but only 28 percent of republican have a favorable view of both the top two gop candidate trump and sen ted cruz of texas robin williamsbeers a retired glass engraver who describes herself a a christian conservative attended a rally for ohio gov john kasich on the eve of tuesday primary vote in rockville md she stake out a frontrow seat with her homemade sign including resist the rage research think vote kasich in some respect she might seem a natural supporter for senator cruz or even trump who ha drawn strong support from christian conservative voter in the south but she say that she had health issue at the start of the primary season and used her time in bed to read up on the candidate including governor kasichs account of the impact that bible study had on his life in his book every other monday i feel like he unifies people and our country desperately need that right now she say she showed up at the poll in kingsville md at 630 am to post sign for kasich a a volunteer and took down the sign at 930 while at the polling venue many people asked me who would be the best vote to stop trump she said in a phone interview after the vote could she bring herself to vote for trump thats a very difficult thing to say in this point in time she say im waiting and praying he doe not have the magic number yet and so much ha happened in this election that i hope that something will stop him from becoming the nominee when the time come ill cross that bridge when we come to it she say in an election that ha so often defied expectation poll may not get to the critical question of whether voter will be motivated to turn out to vote for the nominee research show that people who are most active for candidate who fail to get the nomination do not withdraw from general election activity but often become the most active it a long way to november say ronald rapoport a political scientist at the college of william and mary in williamsburg va who ha written extensively on ross perot voter and most recently tea party activist his own research working from a unique data set of survey over time involving some 700000 tea party supporter found that those who were the most active for tea party candidate like michele bachmann or herman cain were also the most active for mr romney in the general election so the good news for the republican party is that highly divisive primary contest between the tea party and establishment republican did not undermine support for the party nominee in the general election however it did produce significantly less positive rating of the republican party he say a factor clearly in evidence in the antiestablishment surge backing trump but whether that carryover effect work in the opposite direction with establishment activist willing to work a hard for trump is not clear moreover trump is scarier to people than hillary a factor that could help disappointed sander activist get behind clinton but sharon wildberger a graduate student at george washington university also protesting trump outside the mayflower hotel isnt one of them she say that she strongly opposes trump but cant support clinton hawkish foreign policy even in a general election somebody ha to beat him but it doesnt mean i have to vote for her she say\",\n          \"albab syriabeirutankara reuters child returning to school in the northern syrian city of albab were handed a new textbook this term t rk e reniyorum i am learning turkish turkish lesson turkish signpost turkishtrained police and most recently a turkish post office all point to turkey s deepening role in an area of northern syria it captured from islamic state is with the help of syrian rebel turkish administrator are even helping to run hospital in the area ankara ha taken on a widening role in the 100km 60mile stretch of territory seized in it eightmonth long euphrates shield operation laying the foundation for longterm tie with an area that is of crucial strategic importance to turkey launched to drive is away from the border the operation also aimed to block further expansion by syrian kurdish group that ankara deems a threat to it national security with the euphrates shield region calm for month ankara say it want to help recovery and to encourage a return of syrian refugee million of whom fled the sixyearlong war into turkey but turkish support is also consolidating the region s status a a syrian oppositionheld territory where turkeybacked syrian opposition group are building their own government even a the force of president bashar alassad win back swathe of the country elsewhere after daesh islamic state wa expelled we returned and the city were suffering from largescale destruction and general ruin said mohammad karaz director of education in albab some school were wiped out entirely he said the restoration wa done by our turkish brother who restored 10 school one of which we are sitting in today he said during an interview at the major bulent albayrak elementary school named after a turkish officer killed while fighting islamic state for control of albab arab and turk are sibling read a mural in the schoolyard turkish aid includes stationery book and clothes karaz said the school were teaching a syrian curriculum modified to remove the state s baathist ideology the decision to add turkish wa taken unanimously by syrian education official in the area he said turkish class taught by syrian trained in turkey have started for pupil aged between six and nine explaining the decision karaz noted that twothirds of albab citizen had sought refuge in turkey turkish authority had given assurance that qualification from school in the area would be recognized in turkey and student can apply to turkish university he said a senior turkish official said ankara aimed to recreate the condition to bring life back to normal in the area which is located northeast of the city of aleppo and stretch to the western bank of the euphrates river turkish support included health care security food and police training turkey want the syrian living in turkey to return to their country however it will continue to host the syrian here and provide humane living condition for the syrian in the region under it control for a long a necessary the official told reuters turkish president tayyip erdogan in a speech last weekend said we don t have a wish to occupy these land but we want the rightful owner to go back there damascus ha however long accused turkey a major backer of the syrian opposition to assad of colonial ambition in northern syria the front page of the prodamascus lebanese newspaper alakhbar on thursday declared that ankara wa undertaking the turkification of the area turkey s intervention wa driven chiefly by concern over the growing sway of syrian kurdish group seen by ankara a an extension of the kurdistan worker party pkk which ha waged a threedecade long insurgency against the turkish state the euphrates shield operation shattered the syrian kurd hope of joining up two kurdishdominated region of northern syria where the war ha allowed kurdish militia to carve out their own autonomous region the syrian opposition s effort to establish their own interim government in the euphrates shield area received a big boost this week when a free syrian army fsa rebel group handed it control of a border crossing to turkey the interim government s aim include drawing investment to move the people from a state of war to work and building the region said khaled aaba a senior official with the jabha shamiya fsa group that handed over bab alsalama crossing crediting turkey for standing by syrian in their travail he said ankara wa actively participating in supporting administrative and service institution in the area the existence of the interim government better organizes this relationship turkey s support to the health sector ha included repairing and expanding hospital previously operated by the syrian state turkish administrator are working alongside syrian at the hikmeh hospital in albab said ahmad aabo a syrian medical official in the city turkey s main project is a 200bed hospital that will replace one destroyed during the war with is the company taking control of the construction are turkish we don t have company capable of doing such a project said aabo speaking to reuters in a telephone interview from the city he said work on the hospital which began a month ago should be completed by new year comparing the rapid pace of the turkish project with the 25 year it had taken to build it predecessor turkish support for syrian security force ha included training police officer who began deploying in the region in january abdel razzak allaz the head of the national police and general security force said 7000 have now been deployed everyone want the return of security and stability want to see a police patrol at night and during the day said laz a police director when he defected to the opposition in 2012 the number are increasing and there are continuous course\"\n        ],\n        \"semantic_type\": \"\",\n        \"description\": \"\"\n      }\n    }\n  ]\n}"
            }
          },
          "metadata": {},
          "execution_count": 2
        }
      ],
      "source": [
        "df.head()"
      ]
    },
    {
      "cell_type": "code",
      "execution_count": 3,
      "metadata": {
        "id": "gNlqIM85Zmse"
      },
      "outputs": [],
      "source": [
        "import tensorflow as tf\n",
        "from tensorflow.keras.preprocessing.text import Tokenizer\n",
        "from tensorflow.keras.preprocessing.sequence import pad_sequences"
      ]
    },
    {
      "cell_type": "code",
      "execution_count": 4,
      "metadata": {
        "id": "uWI7Nq5JZmsf"
      },
      "outputs": [],
      "source": [
        "df['text'] = df['text'].astype(str)"
      ]
    },
    {
      "cell_type": "code",
      "execution_count": 5,
      "metadata": {
        "id": "GXw99H1KZmsf"
      },
      "outputs": [],
      "source": [
        "tokenizer = Tokenizer(num_words=10000, oov_token=\"<OOV>\")\n",
        "tokenizer.fit_on_texts(df['text'])\n",
        "vocab_size = len(tokenizer.word_index)"
      ]
    },
    {
      "cell_type": "code",
      "execution_count": 6,
      "metadata": {
        "id": "AwNOB3v5Zmsf"
      },
      "outputs": [],
      "source": [
        "vocab_size = min(10000, len(tokenizer.word_index) + 1)"
      ]
    },
    {
      "cell_type": "code",
      "execution_count": 7,
      "metadata": {
        "id": "gMIZ7U2ZZmsf"
      },
      "outputs": [],
      "source": [
        "sequences = tokenizer.texts_to_sequences(df['text'])\n",
        "sequence_lengths = [len(seq) for seq in sequences]"
      ]
    },
    {
      "cell_type": "code",
      "execution_count": 8,
      "metadata": {
        "id": "1SZ-emoeZmsf"
      },
      "outputs": [],
      "source": [
        "max_length = max(sequence_lengths)"
      ]
    },
    {
      "cell_type": "code",
      "execution_count": 9,
      "metadata": {
        "id": "fIohJhVvZmsg",
        "outputId": "897cf93d-92b6-4a4c-cfa4-00a47ce24854",
        "colab": {
          "base_uri": "https://localhost:8080/"
        }
      },
      "outputs": [
        {
          "output_type": "stream",
          "name": "stdout",
          "text": [
            "(62718, 100)\n"
          ]
        }
      ],
      "source": [
        "padded_text = pad_sequences(sequences,maxlen = 100, padding='post', truncating='post')\n",
        "\n",
        "print(padded_text.shape)"
      ]
    },
    {
      "cell_type": "code",
      "execution_count": 10,
      "metadata": {
        "id": "ggFdBUSrZmsg"
      },
      "outputs": [],
      "source": [
        "from sklearn.model_selection import train_test_split\n",
        "\n",
        "\n",
        "# Replace `labels` with your actual labels for the dataset\n",
        "labels = df['label'].values  # Use the actual column for labels\n",
        "\n",
        "# Split the data\n",
        "X_train, X_test, y_train, y_test = train_test_split(padded_text, labels, test_size=0.2, random_state=42)\n"
      ]
    },
    {
      "cell_type": "code",
      "execution_count": 11,
      "metadata": {
        "id": "K-PLB9ntZmsg",
        "outputId": "85a23f96-7bba-4a33-f517-dd838858e407",
        "colab": {
          "base_uri": "https://localhost:8080/"
        }
      },
      "outputs": [
        {
          "output_type": "stream",
          "name": "stdout",
          "text": [
            "the shape of X_train: (50174, 100)\n",
            "the shape of y_train: (50174,)\n"
          ]
        }
      ],
      "source": [
        "print('the shape of X_train:',X_train.shape)\n",
        "print('the shape of y_train:',y_train.shape)\n"
      ]
    },
    {
      "cell_type": "code",
      "execution_count": 14,
      "metadata": {
        "id": "Uq9eoVlxZmsg"
      },
      "outputs": [],
      "source": [
        "from tensorflow.keras.models import Sequential\n",
        "from tensorflow.keras.layers import Embedding, LSTM, Dense, Dropout, SpatialDropout1D\n",
        "from tensorflow.keras.optimizers import Adam\n",
        "\n",
        "model = Sequential()\n",
        "\n",
        "# Embedding Layer\n",
        "model.add(Embedding(input_dim=10000, output_dim=100, input_length=100))\n",
        "\n",
        "# Spatial Dropout (to prevent overfitting)\n",
        "model.add(SpatialDropout1D(0.2))\n",
        "\n",
        "# LSTM Layer\n",
        "model.add(LSTM(64, dropout=0.2, recurrent_dropout=0.2))\n",
        "\n",
        "# Dense Layer (output layer)\n",
        "model.add(Dense(1, activation='sigmoid'))  # Binary classification (sigmoid activation)\n",
        "\n",
        "# Step 6: Compiling the Model\n",
        "model.compile(loss='binary_crossentropy',\n",
        "              optimizer=Adam(learning_rate=0.001),\n",
        "              metrics=['accuracy'])\n"
      ]
    },
    {
      "cell_type": "code",
      "execution_count": null,
      "metadata": {
        "id": "_aD7HdJHZmsh",
        "outputId": "2294be31-3f82-4693-9a3a-dc216b921bc7",
        "colab": {
          "base_uri": "https://localhost:8080/"
        }
      },
      "outputs": [
        {
          "output_type": "stream",
          "name": "stdout",
          "text": [
            "Epoch 1/5\n"
          ]
        }
      ],
      "source": [
        "# Step 7: Training the Model\n",
        "history = model.fit(X_train, y_train, epochs=5, batch_size=64, validation_data=(X_test, y_test), verbose=2)\n"
      ]
    },
    {
      "cell_type": "code",
      "execution_count": null,
      "metadata": {
        "id": "F1ChZuFYZmsh"
      },
      "outputs": [],
      "source": [
        "# Step 8: Evaluating the Model\n",
        "loss, accuracy = model.evaluate(X_val, y_val)\n",
        "print(f'Validation Accuracy: {accuracy:.4f}')"
      ]
    },
    {
      "cell_type": "code",
      "source": [
        "# Save the model if needed\n",
        "model.save('fake_news_classifier_lstm.h5')"
      ],
      "metadata": {
        "id": "14iEgAQMg5ou"
      },
      "execution_count": null,
      "outputs": []
    }
  ],
  "metadata": {
    "kernelspec": {
      "display_name": "Python 3",
      "name": "python3"
    },
    "language_info": {
      "codemirror_mode": {
        "name": "ipython",
        "version": 3
      },
      "file_extension": ".py",
      "mimetype": "text/x-python",
      "name": "python",
      "nbconvert_exporter": "python",
      "pygments_lexer": "ipython3",
      "version": "3.12.5"
    },
    "colab": {
      "provenance": [],
      "gpuType": "T4",
      "include_colab_link": true
    },
    "accelerator": "GPU"
  },
  "nbformat": 4,
  "nbformat_minor": 0
}